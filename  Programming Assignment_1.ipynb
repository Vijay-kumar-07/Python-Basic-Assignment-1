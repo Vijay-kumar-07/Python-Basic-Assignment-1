{
 "cells": [
  {
   "cell_type": "markdown",
   "id": "practical-redhead",
   "metadata": {},
   "source": [
    "# 1.\tWrite a Python program to print \"Hello Python\"?"
   ]
  },
  {
   "cell_type": "code",
   "execution_count": 5,
   "id": "mechanical-polls",
   "metadata": {},
   "outputs": [
    {
     "name": "stdout",
     "output_type": "stream",
     "text": [
      "\"Hello Python\"\n"
     ]
    }
   ],
   "source": [
    "print('\"Hello Python\"')"
   ]
  },
  {
   "cell_type": "markdown",
   "id": "surgical-break",
   "metadata": {},
   "source": [
    "# 2.\tWrite a Python program to do arithmetical operations addition and division.?"
   ]
  },
  {
   "cell_type": "code",
   "execution_count": 11,
   "id": "hawaiian-miami",
   "metadata": {},
   "outputs": [
    {
     "name": "stdout",
     "output_type": "stream",
     "text": [
      "50\n",
      "9.0\n"
     ]
    }
   ],
   "source": [
    "a = 45\n",
    "b = 5\n",
    "print(a+b)\n",
    "print(a/b)\n"
   ]
  },
  {
   "cell_type": "markdown",
   "id": "employed-version",
   "metadata": {},
   "source": [
    "# 3.\tWrite a Python program to find the area of a triangle?"
   ]
  },
  {
   "cell_type": "code",
   "execution_count": 26,
   "id": "offshore-rendering",
   "metadata": {},
   "outputs": [
    {
     "name": "stdout",
     "output_type": "stream",
     "text": [
      "Enter fist side : 20\n",
      "Enter second side : 24\n",
      "Enter third side : 20\n",
      "Semiperimeter s is :32.0\n",
      "The area of the triangle is :192.0\n"
     ]
    }
   ],
   "source": [
    "#Area of triangle= 1/2 base* height\n",
    "\n",
    "a = float(input(\"Enter fist side : \"))\n",
    "b = float(input(\"Enter second side : \"))\n",
    "c = float(input(\"Enter third side : \"))\n",
    "\n",
    "#Semiperimeter of Triangle S = (a+b+c)/2\n",
    "s = (a+b+c)/2\n",
    "print(\"Semiperimeter s is :{}\".format(s))\n",
    "\n",
    "#Area\n",
    "Area = (s*(s-a)*(s-b)*(s-c))**(1/2)\n",
    "print(\"The area of the triangle is :{}\".format(area))"
   ]
  },
  {
   "cell_type": "markdown",
   "id": "female-determination",
   "metadata": {},
   "source": [
    "# 4.\tWrite a Python program to swap two variables?"
   ]
  },
  {
   "cell_type": "code",
   "execution_count": 50,
   "id": "natural-cameroon",
   "metadata": {},
   "outputs": [
    {
     "name": "stdout",
     "output_type": "stream",
     "text": [
      "Enter value of x :35\n",
      "Enter value of y :45\n",
      "The value of x after swapping 45\n",
      "The value of y after swapping 35\n"
     ]
    }
   ],
   "source": [
    "x = input('Enter value of x :')\n",
    "y = input('Enter value of y :')\n",
    "# Used temporary variable as \"z\"\n",
    "z = x\n",
    "x = y\n",
    "y = z\n",
    "print(\"The value of x after swapping {}\".format(x))\n",
    "print(\"The value of y after swapping {}\".format(y))\n",
    "\n"
   ]
  },
  {
   "cell_type": "markdown",
   "id": "offensive-constitutional",
   "metadata": {},
   "source": [
    "# 5.\tWrite a Python program to generate a random number?"
   ]
  },
  {
   "cell_type": "code",
   "execution_count": 59,
   "id": "fabulous-medicaid",
   "metadata": {},
   "outputs": [
    {
     "name": "stdout",
     "output_type": "stream",
     "text": [
      "24\n"
     ]
    }
   ],
   "source": [
    "import random\n",
    "n = random.randint(10,30)\n",
    "print(n)"
   ]
  },
  {
   "cell_type": "code",
   "execution_count": 46,
   "id": "accessible-parts",
   "metadata": {},
   "outputs": [],
   "source": []
  },
  {
   "cell_type": "code",
   "execution_count": null,
   "id": "beneficial-contemporary",
   "metadata": {},
   "outputs": [],
   "source": []
  },
  {
   "cell_type": "code",
   "execution_count": null,
   "id": "advised-portugal",
   "metadata": {},
   "outputs": [],
   "source": []
  },
  {
   "cell_type": "code",
   "execution_count": null,
   "id": "classical-incident",
   "metadata": {},
   "outputs": [],
   "source": []
  },
  {
   "cell_type": "code",
   "execution_count": null,
   "id": "everyday-female",
   "metadata": {},
   "outputs": [],
   "source": []
  },
  {
   "cell_type": "code",
   "execution_count": null,
   "id": "closing-prompt",
   "metadata": {},
   "outputs": [],
   "source": []
  }
 ],
 "metadata": {
  "kernelspec": {
   "display_name": "Python 3",
   "language": "python",
   "name": "python3"
  },
  "language_info": {
   "codemirror_mode": {
    "name": "ipython",
    "version": 3
   },
   "file_extension": ".py",
   "mimetype": "text/x-python",
   "name": "python",
   "nbconvert_exporter": "python",
   "pygments_lexer": "ipython3",
   "version": "3.7.1"
  }
 },
 "nbformat": 4,
 "nbformat_minor": 5
}
