{
 "cells": [
  {
   "cell_type": "markdown",
   "metadata": {},
   "source": [
    "# Question 1:\n",
    "\n",
    "### Please write a program using generator to print the numbers which can be divisible by 5 and 7 between 0 and n in comma separated form while n is input by console."
   ]
  },
  {
   "cell_type": "code",
   "execution_count": 1,
   "metadata": {},
   "outputs": [
    {
     "name": "stdout",
     "output_type": "stream",
     "text": [
      "Enter a number :100\n",
      "0,35,70\n"
     ]
    }
   ],
   "source": [
    "def Numgenerator(n):\n",
    "    for i in range(n+1):\n",
    "        if i%5 == 0 and i%7 ==0:\n",
    "            yield i\n",
    "    \n",
    "    \n",
    "    \n",
    "n = int(input(\"Enter a number :\"))\n",
    "values = []\n",
    "for i in Numgenerator(n):\n",
    "    values.append(str(i))\n",
    "print(\",\".join(values))\n"
   ]
  },
  {
   "cell_type": "markdown",
   "metadata": {},
   "source": [
    "# Question 2:\n",
    "\n",
    "### Please write a program using generator to print the even numbers between 0 and n in comma separated form while n is input by console.\n"
   ]
  },
  {
   "cell_type": "code",
   "execution_count": 2,
   "metadata": {},
   "outputs": [
    {
     "name": "stdout",
     "output_type": "stream",
     "text": [
      "Enter a number :10\n",
      "0,2,4,6,8,10\n"
     ]
    }
   ],
   "source": [
    "def Evengenerator(n):\n",
    "    i = 0\n",
    "    while i <= n:\n",
    "        if i % 2 ==0:\n",
    "            yield i\n",
    "        i += 1    \n",
    "            \n",
    "n = int(input(\"Enter a number :\"))\n",
    "values = []\n",
    "for i in Evengenerator(n):\n",
    "    values.append(str(i))\n",
    "    \n",
    "print(\",\".join(values))    "
   ]
  },
  {
   "cell_type": "markdown",
   "metadata": {},
   "source": [
    "# Question 3:\n",
    "#### The Fibonacci Sequence is computed based on the following formula:\n",
    "f(n)=0 if n=0\n",
    " \n",
    "f(n)=1 if n=1\n",
    " \n",
    "f(n)=f(n-1)+f(n-2) if n>1\n",
    " \n",
    "#### Please write a program using list comprehension to print the Fibonacci Sequence in comma separated form with a given n input by console.\n"
   ]
  },
  {
   "cell_type": "code",
   "execution_count": 3,
   "metadata": {},
   "outputs": [
    {
     "name": "stdout",
     "output_type": "stream",
     "text": [
      "Enter a number :7\n",
      "0,1,1,2,3,5,8,13\n"
     ]
    }
   ],
   "source": [
    "def f(n):\n",
    "    if n == 0: return 0\n",
    "    elif n == 1: return 1\n",
    "    else: return f(n-1)+f(n-2)\n",
    "    \n",
    "n = int(input(\"Enter a number :\"))\n",
    "values = [str(f(i)) for i in range(n+1)]\n",
    "print(\",\".join(values))\n",
    "    \n",
    "    \n",
    "    "
   ]
  },
  {
   "cell_type": "markdown",
   "metadata": {},
   "source": [
    "# Question 4:\n",
    "#### Assuming that we have some email addresses in the \"username@companyname.com\" format, please write program to print the user name of a given email address. Both user names and company names are composed of letters only.\n"
   ]
  },
  {
   "cell_type": "code",
   "execution_count": 4,
   "metadata": {},
   "outputs": [
    {
     "name": "stdout",
     "output_type": "stream",
     "text": [
      "Enter your email address :Vijay@gmail.com\n",
      "User name : Vijay\n"
     ]
    }
   ],
   "source": [
    "import re\n",
    "email_address = input(\"Enter your email address :\")\n",
    "x = \"(\\w+)@((\\w+\\.)+(com))\"\n",
    "r2 = re.match(x, email_address)\n",
    "print (\"User name :\", r2.group(1))"
   ]
  },
  {
   "cell_type": "code",
   "execution_count": 5,
   "metadata": {},
   "outputs": [
    {
     "name": "stdout",
     "output_type": "stream",
     "text": [
      "company name : gmail.com\n"
     ]
    }
   ],
   "source": [
    "print(\"company name :\", r2.group(2))"
   ]
  },
  {
   "cell_type": "markdown",
   "metadata": {},
   "source": [
    "# Question 5:\n",
    "#### Define a class named Shape and its subclass Square. The Square class has an init function which takes a length as argument. Both classes have a area function which can print the area of the shape where Shape's area is 0 by default.\n"
   ]
  },
  {
   "cell_type": "code",
   "execution_count": 6,
   "metadata": {},
   "outputs": [
    {
     "name": "stdout",
     "output_type": "stream",
     "text": [
      "9 Square units\n"
     ]
    }
   ],
   "source": [
    "class Shape:\n",
    "    def __init__(self):\n",
    "        pass\n",
    "    def area(self):\n",
    "        return 0\n",
    "    \n",
    "class Square(Shape):\n",
    "    def __init__(self,l):\n",
    "        Shape.__init__(self)\n",
    "        self.length = l\n",
    "        \n",
    "    def area(self):\n",
    "        return self.length*self.length\n",
    "    \n",
    "Units = Square(3)\n",
    "print(\"{} Square units\".format(Units.area()))"
   ]
  },
  {
   "cell_type": "code",
   "execution_count": null,
   "metadata": {},
   "outputs": [],
   "source": []
  }
 ],
 "metadata": {
  "kernelspec": {
   "display_name": "Python 3",
   "language": "python",
   "name": "python3"
  },
  "language_info": {
   "codemirror_mode": {
    "name": "ipython",
    "version": 3
   },
   "file_extension": ".py",
   "mimetype": "text/x-python",
   "name": "python",
   "nbconvert_exporter": "python",
   "pygments_lexer": "ipython3",
   "version": "3.8.3"
  }
 },
 "nbformat": 4,
 "nbformat_minor": 4
}
