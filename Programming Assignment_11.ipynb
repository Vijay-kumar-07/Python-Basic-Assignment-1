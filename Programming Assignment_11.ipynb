{
 "cells": [
  {
   "cell_type": "markdown",
   "metadata": {},
   "source": [
    "# 1.\tWrite a Python program to find words which are greater than given length k?"
   ]
  },
  {
   "cell_type": "code",
   "execution_count": 1,
   "metadata": {},
   "outputs": [
    {
     "name": "stdout",
     "output_type": "stream",
     "text": [
      "['writing', 'program', 'find', 'words', 'which', 'greater', 'than', 'given', 'length']\n"
     ]
    }
   ],
   "source": [
    "def string_k(k, string):\n",
    "    s = []\n",
    "    text = string.split()\n",
    "    for i in text:\n",
    "        if len(i)>k:\n",
    "            s.append(i)\n",
    "    return s        \n",
    "\n",
    "k = 3\n",
    "string = \"Hi I'm writing a program to find words which are greater than given length k\"\n",
    "print(string_k(k, string))"
   ]
  },
  {
   "cell_type": "markdown",
   "metadata": {},
   "source": [
    "# 2.\tWrite a Python program for removing i-th character from a string?"
   ]
  },
  {
   "cell_type": "code",
   "execution_count": 2,
   "metadata": {},
   "outputs": [
    {
     "name": "stdout",
     "output_type": "stream",
     "text": [
      "PYTHN\n"
     ]
    }
   ],
   "source": [
    "def remove(i, string):\n",
    "    #characters before the i-th indexed is stored in a vairable a\n",
    "    a = string[:i]\n",
    "    #characters after the nth indexed is stored in a variavle b\n",
    "    b = string[i+1:]\n",
    "    #Returning string after removing nth indexed character\n",
    "    return a + b\n",
    "    \n",
    "    \n",
    "string = \"PYTHON\"\n",
    "i = 4\n",
    "print(remove(i, string))"
   ]
  },
  {
   "cell_type": "markdown",
   "metadata": {},
   "source": [
    "# 3.\tWrite a Python program to split and join a string? "
   ]
  },
  {
   "cell_type": "code",
   "execution_count": 3,
   "metadata": {},
   "outputs": [
    {
     "name": "stdout",
     "output_type": "stream",
     "text": [
      "['Python', 'is', 'a', 'case', 'sensitive', 'language']\n",
      "Python-is-a-case-sensitive-language\n"
     ]
    }
   ],
   "source": [
    "def split_string(string):\n",
    "    #Split the string based on space delimiter\n",
    "    list_string = string.split(' ')\n",
    "    return list_string\n",
    "def join_string(list_string):\n",
    "    #Join the string based on '-' delimiter\n",
    "    new_string = '-'.join(list_string)\n",
    "    return new_string\n",
    "    \n",
    "    \n",
    "    \n",
    "string = \"Python is a case sensitive language\"\n",
    "#Splitting a string\n",
    "list_string = split_string(string)\n",
    "print(list_string)\n",
    "\n",
    "#Join list of strings into one\n",
    "new_string = join_string(list_string)\n",
    "print(new_string)"
   ]
  },
  {
   "cell_type": "markdown",
   "metadata": {},
   "source": [
    "# 4.\tWrite a Python to check if a given string is binary string or not?"
   ]
  },
  {
   "cell_type": "code",
   "execution_count": 4,
   "metadata": {},
   "outputs": [
    {
     "name": "stdout",
     "output_type": "stream",
     "text": [
      "Enter a string :0101010\n",
      "It's is a Binary string\n"
     ]
    }
   ],
   "source": [
    "def check(string):\n",
    "    p = set(string)\n",
    "    \n",
    "    s = {'0', '1'}\n",
    "    \n",
    "    if s == p or p == {'0'} or p == {'1'}:\n",
    "        print(\"It's is a Binary string\")\n",
    "    else:\n",
    "        print(\"It's not a Binary string\")\n",
    "\n",
    "string = (input(\"Enter a string :\"))\n",
    "check(string)"
   ]
  },
  {
   "cell_type": "code",
   "execution_count": 5,
   "metadata": {},
   "outputs": [
    {
     "data": {
      "text/plain": [
       "{'0', '1'}"
      ]
     },
     "execution_count": 5,
     "metadata": {},
     "output_type": "execute_result"
    }
   ],
   "source": [
    "set(string)"
   ]
  },
  {
   "cell_type": "markdown",
   "metadata": {},
   "source": [
    "# 5.\tWrite a Python program to find uncommon words from two Strings?"
   ]
  },
  {
   "cell_type": "code",
   "execution_count": 6,
   "metadata": {},
   "outputs": [
    {
     "data": {
      "text/plain": [
       "' Imposing Glorious'"
      ]
     },
     "execution_count": 6,
     "metadata": {},
     "output_type": "execute_result"
    }
   ],
   "source": [
    "def uncommon_words(A, B):\n",
    "    list_A = A.split()\n",
    "    list_B = B.split()\n",
    "    unc = ''\n",
    "    for i in list_A:\n",
    "        if i not in list_B:\n",
    "            unc = unc+\" \"+i\n",
    "    for j in list_B:\n",
    "        if j not in list_A:\n",
    "            unc = unc+\" \"+j\n",
    "    return unc        \n",
    "            \n",
    "    \n",
    "\n",
    "\n",
    "A = \"Imposing is the synonym of Splendid\"\n",
    "B = \"Splendid is the synonym of Glorious\"\n",
    "uncommon_words(A,B)"
   ]
  },
  {
   "cell_type": "markdown",
   "metadata": {},
   "source": [
    "# 6.\tWrite a Python to find all duplicate characters in string?"
   ]
  },
  {
   "cell_type": "code",
   "execution_count": 7,
   "metadata": {},
   "outputs": [
    {
     "name": "stdout",
     "output_type": "stream",
     "text": [
      "['c', 'a', 't', 'e', 'r']\n"
     ]
    }
   ],
   "source": [
    "def Duplicate(string):\n",
    "    dup = []\n",
    "    for i in string:\n",
    "        if string.count(i)>1:\n",
    "            if i not in dup:\n",
    "                dup.append(i)\n",
    "    return dup           \n",
    "\n",
    "\n",
    "string = \"Duplicate characters\"\n",
    "print(Duplicate(string))"
   ]
  },
  {
   "cell_type": "markdown",
   "metadata": {},
   "source": [
    "# 7.\tWrite a Python Program to check if a string contains any special character?"
   ]
  },
  {
   "cell_type": "code",
   "execution_count": 8,
   "metadata": {},
   "outputs": [
    {
     "name": "stdout",
     "output_type": "stream",
     "text": [
      "Enter anything :^#%$&$#&%\n",
      "Yes, this string contains Special character\n"
     ]
    }
   ],
   "source": [
    "special_characters = \"!@#$%^&*()-+?_=,<>/\"\n",
    "s = input(\"Enter anything :\")\n",
    "if any(i in special_characters for i in s):\n",
    "    print(\"Yes, this string contains Special character\")\n",
    "else:    \n",
    "    print(\"No, this string not contains special character\")"
   ]
  },
  {
   "cell_type": "code",
   "execution_count": 9,
   "metadata": {},
   "outputs": [
    {
     "name": "stdout",
     "output_type": "stream",
     "text": [
      "Text has special characters.\n"
     ]
    }
   ],
   "source": [
    "text = 'This is my text with special character (👽)'\n",
    "\n",
    "from string import printable\n",
    "\n",
    "if set(text).difference(printable):\n",
    "    print('Text has special characters.')\n",
    "else:\n",
    "    print(\"Text hasn't special characters.\")"
   ]
  },
  {
   "cell_type": "code",
   "execution_count": null,
   "metadata": {},
   "outputs": [],
   "source": []
  }
 ],
 "metadata": {
  "kernelspec": {
   "display_name": "Python 3",
   "language": "python",
   "name": "python3"
  },
  "language_info": {
   "codemirror_mode": {
    "name": "ipython",
    "version": 3
   },
   "file_extension": ".py",
   "mimetype": "text/x-python",
   "name": "python",
   "nbconvert_exporter": "python",
   "pygments_lexer": "ipython3",
   "version": "3.8.3"
  }
 },
 "nbformat": 4,
 "nbformat_minor": 4
}
