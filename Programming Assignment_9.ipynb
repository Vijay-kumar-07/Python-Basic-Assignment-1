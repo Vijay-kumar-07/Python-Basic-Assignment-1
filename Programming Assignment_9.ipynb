{
 "cells": [
  {
   "cell_type": "markdown",
   "metadata": {},
   "source": [
    "# 1.\tWrite a Python program to check if the given number is a Disarium Number?"
   ]
  },
  {
   "cell_type": "markdown",
   "metadata": {},
   "source": [
    "#### A number is called Disarium if sum of its digits powered with their respective positions is equal to the number itself.\n",
    "- 175 : 1^3+7^2+5^3 ; 11+ 72 + 53 = 1+ 49 + 125 = 175"
   ]
  },
  {
   "cell_type": "code",
   "execution_count": 1,
   "metadata": {},
   "outputs": [
    {
     "name": "stdout",
     "output_type": "stream",
     "text": [
      "Enter a number :175\n",
      "175 is a Disarium Number\n"
     ]
    }
   ],
   "source": [
    "import math\n",
    "def check(n):\n",
    "    count_digits = len(str(n))\n",
    "    sum1 = 0\n",
    "    x = n\n",
    "    while (x!=0):\n",
    "        r = x%10\n",
    "        sum1 = (sum1+ math.pow(r, count_digits))\n",
    "        count_digits = count_digits -1\n",
    "        x = x//10             \n",
    "    if sum1 == n:\n",
    "        return 1\n",
    "    else:\n",
    "        return 0\n",
    "    \n",
    "    \n",
    "n = int(input(\"Enter a number :\"))\n",
    "if (check(n) == 1):\n",
    "    print(n,\"is a Disarium Number\")\n",
    "else:\n",
    "    print(n, \"is not a Disarium Number\")"
   ]
  },
  {
   "cell_type": "markdown",
   "metadata": {},
   "source": [
    "# 2.\tWrite a Python program to print all disarium numbers between 1 to 100?"
   ]
  },
  {
   "cell_type": "code",
   "execution_count": 2,
   "metadata": {},
   "outputs": [
    {
     "name": "stdout",
     "output_type": "stream",
     "text": [
      "Disarium numbers between 1 to 100 are :\n",
      "1 2 3 4 5 6 7 8 9 89 "
     ]
    }
   ],
   "source": [
    "import math\n",
    "def check(n):\n",
    "    count_digits = len(str(n))\n",
    "    sum1 = 0\n",
    "    x = n\n",
    "    while (x!=0):\n",
    "        r = x%10\n",
    "        sum1 = (sum1+ math.pow(r, count_digits))\n",
    "        count_digits = count_digits -1\n",
    "        x = x//10             \n",
    "    return sum1\n",
    "result = 0    \n",
    "print(\"Disarium numbers between 1 to 100 are :\") \n",
    "for i in range(1,101):\n",
    "    result = check(i)\n",
    "    \n",
    "    if result == i:\n",
    "        print(i, end = ' ')"
   ]
  },
  {
   "cell_type": "markdown",
   "metadata": {},
   "source": [
    "# 3.\tWrite a Python program to check if the given number is Happy Number?"
   ]
  },
  {
   "cell_type": "markdown",
   "metadata": {},
   "source": [
    "#### - A number is called happy if it leads to 1 after a sequence of steps wherein each step number is replaced by the sum of squares of its digit that is if we start with Happy Number and keep replacing it with digits square sum, we reach 1.\n",
    "\n",
    "\n",
    "Input: n = 19\n",
    "\n",
    "Output: True\n",
    "\n",
    "19 is Happy Number,\n",
    "\n",
    "1^2 + 9^2 = 82\n",
    "\n",
    "8^2 + 2^2 = 68\n",
    "\n",
    "6^2 + 8^2 = 100\n",
    "\n",
    "1^2 + 0^2 + 0^2 = 1\n",
    "\n",
    "As we reached to 1, 19 is a Happy Number.\n",
    "\n",
    "Input: n = 20\n",
    "\n",
    "Output: False"
   ]
  },
  {
   "cell_type": "code",
   "execution_count": 3,
   "metadata": {},
   "outputs": [
    {
     "name": "stdout",
     "output_type": "stream",
     "text": [
      "Enter a number :19\n",
      "19 is a Happy number\n"
     ]
    }
   ],
   "source": [
    "#Utility method to return sum of square of digits of n\n",
    "def numSquaresum(n):\n",
    "    Squaresum =0\n",
    "    while(n):\n",
    "        Squaresum +=(n%10)*(n%10)\n",
    "        n = int(n/10)\n",
    "    return Squaresum    \n",
    "\n",
    "#method return true if n is happy number\n",
    "def isHappynumber(n):\n",
    "    #Initialize slow and fast by n\n",
    "    slow, fast = n, n\n",
    "    while(True):\n",
    "        #move slow number by one iteration\n",
    "        slow = numSquaresum(slow)\n",
    "        #move fast number by two iteration\n",
    "        fast = numSquaresum(numSquaresum(fast))\n",
    "        if (slow != fast):\n",
    "            continue\n",
    "        else:\n",
    "            break\n",
    "    #If both numbers meet at 1 then return true        \n",
    "    return (slow ==1)      \n",
    "    \n",
    "    \n",
    "    \n",
    "n =int(input(\"Enter a number :\"))\n",
    "if (isHappynumber(n)):\n",
    "    print(n, \"is a Happy number\")\n",
    "else:\n",
    "    print(n, \"is not a Happy number\")"
   ]
  },
  {
   "cell_type": "markdown",
   "metadata": {},
   "source": [
    "# 4.\tWrite a Python program to print all happy numbers between 1 and 100?"
   ]
  },
  {
   "cell_type": "code",
   "execution_count": 4,
   "metadata": {},
   "outputs": [
    {
     "name": "stdout",
     "output_type": "stream",
     "text": [
      "List of Happy numbers between 1 to 100 :\n",
      "1 7 10 13 19 23 28 31 32 44 49 68 70 79 82 86 91 94 97 100 "
     ]
    }
   ],
   "source": [
    "def isHappynumber(n):\n",
    "    Squaresum =0\n",
    "    while(n):\n",
    "        Squaresum +=(n%10)*(n%10)\n",
    "        n = int(n/10)\n",
    "    return Squaresum   \n",
    "    \n",
    "    \n",
    "    \n",
    "    \n",
    "print(\"List of Happy numbers between 1 to 100 :\")\n",
    "for i in range(1, 101):\n",
    "    result = i\n",
    "    #Happy number always ends with 1 and unhappy number ends in a cycle of repeating numbers which contains 4  \n",
    "    while(result != 1 and result !=4):\n",
    "        result = isHappynumber(result)\n",
    "        \n",
    "    if result == 1:\n",
    "        print(i, end = ' ')"
   ]
  },
  {
   "cell_type": "markdown",
   "metadata": {},
   "source": [
    "# 5.\tWrite a Python program to determine whether the given number is a Harshad Number?"
   ]
  },
  {
   "cell_type": "markdown",
   "metadata": {},
   "source": [
    "#### An integer number in base 10 which is divisible by sum of it digits is said to be a Harshad Number. An n-harshad number is an integer number divisible by sum of its digit in base n.\n",
    "- Below are first few Harshad Numbers represented in base 10:\n",
    "- 1, 2, 3, 4, 5, 6, 7, 8, 9, 10, 12, 18, 20"
   ]
  },
  {
   "cell_type": "code",
   "execution_count": 5,
   "metadata": {},
   "outputs": [
    {
     "name": "stdout",
     "output_type": "stream",
     "text": [
      "Enter a number12\n",
      "12 is a Harhsad number\n"
     ]
    }
   ],
   "source": [
    "def checkHarshad(n):\n",
    "    sum2 = 0\n",
    "    temp = n\n",
    "    while temp > 0 :\n",
    "        sum2 = sum2 + temp % 10\n",
    "        temp = temp // 10\n",
    "       # Return true if sum of digits is multiple of n\n",
    "    return n % sum2 == 0\n",
    "\n",
    "n = int(input(\"Enter a number\"))\n",
    "if(checkHarshad(n)):\n",
    "    print(n, \"is a Harhsad number\")\n",
    "else:\n",
    "    print(n, \"is not a Harshad number\")"
   ]
  },
  {
   "cell_type": "markdown",
   "metadata": {},
   "source": [
    "# 6.\tWrite a Python program to print all pronic numbers between 1 and 100?"
   ]
  },
  {
   "cell_type": "markdown",
   "metadata": {},
   "source": [
    "### -The pronic number is a product of two consecutive integers of the form: n(n+1).\n",
    "\n",
    "Example:\n",
    "\n",
    "6 = 2(2+1)= n(n+1),\n",
    "\n",
    "72 =8(8+1) = n(n+1)\n",
    "\n",
    "Some pronic numbers are: 0, 2, 6, 12, 20, 30, 42, 56 etc\n"
   ]
  },
  {
   "cell_type": "code",
   "execution_count": 6,
   "metadata": {},
   "outputs": [
    {
     "name": "stdout",
     "output_type": "stream",
     "text": [
      "List of Pronic numbers between 1 and 100 :\n",
      "2 6 12 20 30 42 56 72 90 "
     ]
    }
   ],
   "source": [
    "def isPronicNumber(num):\n",
    "    flag = False\n",
    "    for j in range(1, num+1):\n",
    "        if ((j*(j+1)) == num):\n",
    "            flag = True\n",
    "            break\n",
    "    return flag        \n",
    "    \n",
    "    \n",
    "print(\"List of Pronic numbers between 1 and 100 :\")\n",
    "for i in range(1, 101):\n",
    "    if(isPronicNumber(i)):\n",
    "        print(i, end = ' ')"
   ]
  },
  {
   "cell_type": "code",
   "execution_count": null,
   "metadata": {},
   "outputs": [],
   "source": []
  }
 ],
 "metadata": {
  "kernelspec": {
   "display_name": "Python 3",
   "language": "python",
   "name": "python3"
  },
  "language_info": {
   "codemirror_mode": {
    "name": "ipython",
    "version": 3
   },
   "file_extension": ".py",
   "mimetype": "text/x-python",
   "name": "python",
   "nbconvert_exporter": "python",
   "pygments_lexer": "ipython3",
   "version": "3.8.3"
  }
 },
 "nbformat": 4,
 "nbformat_minor": 4
}
