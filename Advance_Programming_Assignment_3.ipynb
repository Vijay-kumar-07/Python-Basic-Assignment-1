{
 "cells": [
  {
   "cell_type": "markdown",
   "id": "ba6efd2b",
   "metadata": {},
   "source": [
    "## 1. Create a function to perform basic arithmetic operations that includes addition, subtraction, multiplication and division on a string number (e.g. \"12 + 24\" or \"23 - 21\" or \"12 // 12\" or \"12 * 21\").\n",
    "\n",
    "Here, we have 1 followed by a space, operator followed by another space and 2. For the challenge, we are going to have only two numbers between 1 valid operator. The return value should be a number.\n",
    "\n",
    "eval() is not allowed. In case of division, whenever the second number equals \"0\" return -1.\n",
    "\n",
    "For example:\n",
    "\n",
    "\"15 // 0\"  ➞ -1\n"
   ]
  },
  {
   "cell_type": "code",
   "execution_count": 44,
   "id": "695b9582",
   "metadata": {},
   "outputs": [
    {
     "name": "stdout",
     "output_type": "stream",
     "text": [
      "24\n",
      "0\n",
      "144\n",
      "-1\n"
     ]
    }
   ],
   "source": [
    "def arithmetic_operation(st):\n",
    "    s = st.split()\n",
    "    if s[1]== \"+\":\n",
    "        return (int(s[0])+ int(s[2]))\n",
    "    elif s[1] == \"-\":\n",
    "        return (int(s[0])-int(s[2]))\n",
    "    elif s[1] == \"*\":\n",
    "        return (int(s[0])*int(s[2]))\n",
    "    elif s[1] == \"//\":\n",
    "        if s[2] == \"0\":\n",
    "            return (-1)\n",
    "        else:\n",
    "            return (int(s[0])//int(s[2]))\n",
    "            \n",
    "print(arithmetic_operation(\"12 + 12\"))\n",
    "print(arithmetic_operation(\"12 - 12\"))\n",
    "print(arithmetic_operation(\"12 * 12\"))\n",
    "print(arithmetic_operation(\"12 // 0\"))"
   ]
  },
  {
   "cell_type": "markdown",
   "id": "65a0ddb0",
   "metadata": {},
   "source": [
    "## 2. Write a function that takes the coordinates of three points in the form of a 2d array and returns the perimeter of the triangle. The given points are the vertices of a triangle on a two-dimensional plane.    "
   ]
  },
  {
   "cell_type": "code",
   "execution_count": 90,
   "id": "d5e5940b",
   "metadata": {},
   "outputs": [
    {
     "name": "stdout",
     "output_type": "stream",
     "text": [
      "47.08\n",
      "3.41\n",
      "68.28\n"
     ]
    }
   ],
   "source": [
    "import math\n",
    "def perimeter(a):\n",
    "    def AB(a):\n",
    "        x1,x2,y1,y2 = a[0][0],a[1][0],a[0][1],a[1][1]\n",
    "        AB = math.sqrt((x2 - x1)**2 + (y2-y1)**2)\n",
    "        return AB\n",
    "    def BC(a):\n",
    "        x1,x2,y1,y2 = a[1][0],a[2][0],a[1][1],a[2][1]\n",
    "        BC = math.sqrt((x2 - x1)**2 + (y2-y1)**2)\n",
    "        return BC\n",
    "    def CA(a):\n",
    "        x1,x2,y1,y2 = a[2][0],a[0][0],a[2][1],a[0][1]\n",
    "        CA = math.sqrt((x2 - x1)**2 + (y2-y1)**2)\n",
    "        return CA\n",
    "    perimeter_of_traingle = AB(a)+BC(a)+CA(a)\n",
    "    return \"{:.2f}\".format(perimeter_of_traingle)\n",
    "    \n",
    "    \n",
    "    \n",
    "print(perimeter([[15,7],[5,22],[11,1]]))\n",
    "print(perimeter([[0,0],[0,1],[1,0]]))\n",
    "print(perimeter([[-10,-10],[10,10],[-10,10]]))"
   ]
  },
  {
   "cell_type": "markdown",
   "id": "d17f176e",
   "metadata": {},
   "source": [
    "## 3. A city skyline can be represented as a 2-D list with 1s representing buildings. In the example below, the height of the tallest building is 4 (second-most right column).\n",
    "\n",
    "[[0, 0, 0, 0, 0, 0],\n",
    "\n",
    "[0, 0, 0, 0, 1, 0],\n",
    "\n",
    "[0, 0, 1, 0, 1, 0],\n",
    "\n",
    "[0, 1, 1, 1, 1, 0],\n",
    "\n",
    "[1, 1, 1, 1, 1, 1]]\n",
    "\n",
    "## Create a function that takes a skyline (2-D list of 0's and 1's) and returns the height of the tallest skyscraper.\n"
   ]
  },
  {
   "cell_type": "code",
   "execution_count": 60,
   "id": "0a14d2e2",
   "metadata": {},
   "outputs": [
    {
     "name": "stdout",
     "output_type": "stream",
     "text": [
      "3\n",
      "4\n",
      "2\n"
     ]
    }
   ],
   "source": [
    "def tallest_skyscraper(twoDlist):\n",
    "    count = 0\n",
    "    for i in twoDlist:\n",
    "        unique = set(i)\n",
    "        if 1 in unique:\n",
    "            count += 1\n",
    "    return count\n",
    "    \n",
    "\n",
    "print(tallest_skyscraper([\n",
    "  [0, 0, 0, 0],\n",
    "  [0, 1, 0, 0],\n",
    "  [0, 1, 1, 0],\n",
    "  [1, 1, 1, 1]]))\n",
    "\n",
    "print(tallest_skyscraper([\n",
    "  [0, 1, 0, 0],\n",
    "  [0, 1, 0, 0],\n",
    "  [0, 1, 1, 0],\n",
    "  [1, 1, 1, 1]\n",
    "]))\n",
    "\n",
    "print(tallest_skyscraper([\n",
    "  [0, 0, 0, 0],\n",
    "  [0, 0, 0, 0],\n",
    "  [1, 1, 1, 0],\n",
    "  [1, 1, 1, 1]\n",
    "]))"
   ]
  },
  {
   "cell_type": "markdown",
   "id": "3fdcb537",
   "metadata": {},
   "source": [
    "## 4. A financial institution provides professional services to banks and claims charges from the customers based on the number of man-days provided. Internally, it has set a scheme to motivate and reward staff to meet and exceed targeted billable utilization and revenues by paying a bonus for each day claimed from customers in excess of a threshold target.\n",
    "\n",
    "## This quarterly scheme is calculated with a threshold target of 32 days per quarter, and the incentive payment for each billable day in excess of such threshold target is shown as follows:"
   ]
  },
  {
   "cell_type": "raw",
   "id": "1facad0d",
   "metadata": {},
   "source": [
    "Days\t                   Bonus\n",
    "0 to 32 days\t           Zero\n",
    "33 to 40 days\t         SGD$325 per billable day\n",
    "41 to 48 days\t         SGD$550 per billable day\n",
    "Greater than 48 days      SGD$600 per billable day"
   ]
  },
  {
   "cell_type": "markdown",
   "id": "4852c448",
   "metadata": {},
   "source": [
    "## Please note that incentive payment is calculated progressively. As an example, if an employee reached total billable days of 45 in a quarter, his/her incentive payment is computed as follows:\n",
    "\n",
    "32 * 0 + 8 * 325 + 5 * 550 = 5350\n",
    "\n",
    "## Write a function to read the billable days of an employee and return the bonus he/she has obtained in that quarter."
   ]
  },
  {
   "cell_type": "code",
   "execution_count": 99,
   "id": "17ff0703",
   "metadata": {},
   "outputs": [
    {
     "name": "stdout",
     "output_type": "stream",
     "text": [
      "0\n",
      "1625\n",
      "8200\n"
     ]
    }
   ],
   "source": [
    "def bonus(days):\n",
    "    if 0 <= days <=32:\n",
    "        return 0\n",
    "    elif 33 <= days <= 40:\n",
    "        return 32*0 + (days-32)*325\n",
    "    elif 41 <= days <= 48:\n",
    "        return 32*0 + 8*325 + (days-40)*550\n",
    "    else:\n",
    "        return 32*0 + 8*325 + 8*550 + (days-48)*600\n",
    "    \n",
    "print(bonus(15))\n",
    "print(bonus(37))\n",
    "print(bonus(50))"
   ]
  },
  {
   "cell_type": "markdown",
   "id": "550670d0",
   "metadata": {},
   "source": [
    "## 5. A number is said to be Disarium if the sum of its digits raised to their respective positions is the number itself.\n",
    "\n",
    "## Create a function that determines whether a number is a Disarium or not.\n"
   ]
  },
  {
   "cell_type": "code",
   "execution_count": 114,
   "id": "a10e46e6",
   "metadata": {},
   "outputs": [
    {
     "name": "stdout",
     "output_type": "stream",
     "text": [
      "False\n",
      "True\n",
      "False\n",
      "True\n",
      "False\n",
      "True\n"
     ]
    }
   ],
   "source": [
    "import math\n",
    "def is_disarium(num):\n",
    "    count_digits = len(str(num))\n",
    "    sum = 0\n",
    "    x = num\n",
    "    while (x!=0):\n",
    "        # Get the rightmost digit\n",
    "        r = x % 10\n",
    "        sum = (int)(sum + math.pow(r, count_digits))\n",
    "        count_digits = count_digits -1\n",
    "        # Remove the rightmost digit\n",
    "        x = x//10\n",
    "    if sum == num:\n",
    "        return True\n",
    "    else:\n",
    "        return False\n",
    "\n",
    "    \n",
    "print(is_disarium(75))\n",
    "print(is_disarium(135))\n",
    "print(is_disarium(544))\n",
    "print(is_disarium(518))\n",
    "print(is_disarium(466))\n",
    "print(is_disarium(8))"
   ]
  },
  {
   "cell_type": "code",
   "execution_count": null,
   "id": "386ce501",
   "metadata": {},
   "outputs": [],
   "source": []
  },
  {
   "cell_type": "code",
   "execution_count": null,
   "id": "bd671176",
   "metadata": {},
   "outputs": [],
   "source": [
    "\n"
   ]
  },
  {
   "cell_type": "code",
   "execution_count": null,
   "id": "6db3d702",
   "metadata": {},
   "outputs": [],
   "source": []
  },
  {
   "cell_type": "code",
   "execution_count": null,
   "id": "c9bd943a",
   "metadata": {},
   "outputs": [],
   "source": []
  },
  {
   "cell_type": "code",
   "execution_count": null,
   "id": "88593c1b",
   "metadata": {},
   "outputs": [],
   "source": []
  },
  {
   "cell_type": "code",
   "execution_count": null,
   "id": "6c7fc30e",
   "metadata": {},
   "outputs": [],
   "source": []
  }
 ],
 "metadata": {
  "kernelspec": {
   "display_name": "Python 3",
   "language": "python",
   "name": "python3"
  },
  "language_info": {
   "codemirror_mode": {
    "name": "ipython",
    "version": 3
   },
   "file_extension": ".py",
   "mimetype": "text/x-python",
   "name": "python",
   "nbconvert_exporter": "python",
   "pygments_lexer": "ipython3",
   "version": "3.8.8"
  }
 },
 "nbformat": 4,
 "nbformat_minor": 5
}
