{
 "cells": [
  {
   "cell_type": "markdown",
   "metadata": {},
   "source": [
    "## 1. How do you distinguish between shutil.copy() and shutil.copytree()?"
   ]
  },
  {
   "cell_type": "markdown",
   "metadata": {},
   "source": [
    "- The shutil.copy() function will copy a single file.\n",
    "- shutil.copytree() will copy an entire folder, along with all its contents."
   ]
  },
  {
   "cell_type": "markdown",
   "metadata": {},
   "source": [
    "## 2. What function is used to rename files??"
   ]
  },
  {
   "cell_type": "markdown",
   "metadata": {},
   "source": [
    "- The shutil.move() function is used for renaming files, as well as moving them."
   ]
  },
  {
   "cell_type": "markdown",
   "metadata": {},
   "source": [
    "## 3. What is the difference between the delete functions in the send2trash and shutil modules?"
   ]
  },
  {
   "cell_type": "markdown",
   "metadata": {},
   "source": [
    "- The send2trash functions will move a file or folder to the recycle bin.\n",
    "- Shutil functions will permanently delete files and folders."
   ]
  },
  {
   "cell_type": "markdown",
   "metadata": {},
   "source": [
    "## 4. ZipFile objects have a close() method just like File objects’ close() method. What ZipFile method is equivalent to File objects’ open() method?"
   ]
  },
  {
   "cell_type": "markdown",
   "metadata": {},
   "source": [
    "- The zipfile.ZipFile() function is equivalent to the open() function; the first argument is the filename, and the second argument is the mode to open the ZIP file in (read, write, or append)."
   ]
  },
  {
   "cell_type": "markdown",
   "metadata": {},
   "source": [
    "## 5. Create a programme that searches a folder tree for files with a certain file extension (such as .pdf or .jpg). Copy these files from whatever location they are in to a new folder."
   ]
  },
  {
   "cell_type": "code",
   "execution_count": 2,
   "metadata": {},
   "outputs": [
    {
     "name": "stdout",
     "output_type": "stream",
     "text": [
      "D:\\iNeuron\\interview-question-data-science--master\\interview-question-data-science--master\\01.pdf\n",
      "The following file has been copied D:\\iNeuron\\interview-question-data-science--master\\interview-question-data-science--master\\01.pdf\n",
      "D:\\iNeuron\\interview-question-data-science--master\\interview-question-data-science--master\\02.pdf\n",
      "The following file has been copied D:\\iNeuron\\interview-question-data-science--master\\interview-question-data-science--master\\02.pdf\n",
      "D:\\iNeuron\\interview-question-data-science--master\\interview-question-data-science--master\\03.pdf\n",
      "The following file has been copied D:\\iNeuron\\interview-question-data-science--master\\interview-question-data-science--master\\03.pdf\n",
      "D:\\iNeuron\\interview-question-data-science--master\\interview-question-data-science--master\\04.pdf\n",
      "The following file has been copied D:\\iNeuron\\interview-question-data-science--master\\interview-question-data-science--master\\04.pdf\n",
      "D:\\iNeuron\\interview-question-data-science--master\\interview-question-data-science--master\\05.pdf\n",
      "The following file has been copied D:\\iNeuron\\interview-question-data-science--master\\interview-question-data-science--master\\05.pdf\n",
      "D:\\iNeuron\\interview-question-data-science--master\\interview-question-data-science--master\\06.pdf\n",
      "The following file has been copied D:\\iNeuron\\interview-question-data-science--master\\interview-question-data-science--master\\06.pdf\n",
      "D:\\iNeuron\\interview-question-data-science--master\\interview-question-data-science--master\\07.pdf\n",
      "The following file has been copied D:\\iNeuron\\interview-question-data-science--master\\interview-question-data-science--master\\07.pdf\n",
      "D:\\iNeuron\\interview-question-data-science--master\\interview-question-data-science--master\\08.pdf\n",
      "The following file has been copied D:\\iNeuron\\interview-question-data-science--master\\interview-question-data-science--master\\08.pdf\n",
      "D:\\iNeuron\\interview-question-data-science--master\\interview-question-data-science--master\\09.pdf\n",
      "The following file has been copied D:\\iNeuron\\interview-question-data-science--master\\interview-question-data-science--master\\09.pdf\n",
      "D:\\iNeuron\\interview-question-data-science--master\\interview-question-data-science--master\\10.pdf\n",
      "The following file has been copied D:\\iNeuron\\interview-question-data-science--master\\interview-question-data-science--master\\10.pdf\n",
      "D:\\iNeuron\\interview-question-data-science--master\\interview-question-data-science--master\\11.pdf\n",
      "The following file has been copied D:\\iNeuron\\interview-question-data-science--master\\interview-question-data-science--master\\11.pdf\n",
      "D:\\iNeuron\\interview-question-data-science--master\\interview-question-data-science--master\\12.pdf\n",
      "The following file has been copied D:\\iNeuron\\interview-question-data-science--master\\interview-question-data-science--master\\12.pdf\n",
      "D:\\iNeuron\\interview-question-data-science--master\\interview-question-data-science--master\\13.pdf\n",
      "The following file has been copied D:\\iNeuron\\interview-question-data-science--master\\interview-question-data-science--master\\13.pdf\n",
      "D:\\iNeuron\\interview-question-data-science--master\\interview-question-data-science--master\\14.pdf\n",
      "The following file has been copied D:\\iNeuron\\interview-question-data-science--master\\interview-question-data-science--master\\14.pdf\n",
      "D:\\iNeuron\\interview-question-data-science--master\\interview-question-data-science--master\\15.pdf\n",
      "The following file has been copied D:\\iNeuron\\interview-question-data-science--master\\interview-question-data-science--master\\15.pdf\n",
      "D:\\iNeuron\\interview-question-data-science--master\\interview-question-data-science--master\\16.pdf\n",
      "The following file has been copied D:\\iNeuron\\interview-question-data-science--master\\interview-question-data-science--master\\16.pdf\n",
      "D:\\iNeuron\\interview-question-data-science--master\\interview-question-data-science--master\\17.pdf\n",
      "The following file has been copied D:\\iNeuron\\interview-question-data-science--master\\interview-question-data-science--master\\17.pdf\n",
      "D:\\iNeuron\\interview-question-data-science--master\\interview-question-data-science--master\\18.pdf\n",
      "The following file has been copied D:\\iNeuron\\interview-question-data-science--master\\interview-question-data-science--master\\18.pdf\n",
      "D:\\iNeuron\\interview-question-data-science--master\\interview-question-data-science--master\\19.pdf\n",
      "The following file has been copied D:\\iNeuron\\interview-question-data-science--master\\interview-question-data-science--master\\19.pdf\n",
      "D:\\iNeuron\\interview-question-data-science--master\\interview-question-data-science--master\\20.pdf\n",
      "The following file has been copied D:\\iNeuron\\interview-question-data-science--master\\interview-question-data-science--master\\20.pdf\n",
      "D:\\iNeuron\\interview-question-data-science--master\\interview-question-data-science--master\\21.pdf\n",
      "The following file has been copied D:\\iNeuron\\interview-question-data-science--master\\interview-question-data-science--master\\21.pdf\n",
      "D:\\iNeuron\\interview-question-data-science--master\\interview-question-data-science--master\\22.pdf\n",
      "The following file has been copied D:\\iNeuron\\interview-question-data-science--master\\interview-question-data-science--master\\22.pdf\n",
      "D:\\iNeuron\\interview-question-data-science--master\\interview-question-data-science--master\\23.pdf\n",
      "The following file has been copied D:\\iNeuron\\interview-question-data-science--master\\interview-question-data-science--master\\23.pdf\n",
      "D:\\iNeuron\\interview-question-data-science--master\\interview-question-data-science--master\\24.pdf\n",
      "The following file has been copied D:\\iNeuron\\interview-question-data-science--master\\interview-question-data-science--master\\24.pdf\n",
      "D:\\iNeuron\\interview-question-data-science--master\\interview-question-data-science--master\\25.pdf\n",
      "The following file has been copied D:\\iNeuron\\interview-question-data-science--master\\interview-question-data-science--master\\25.pdf\n",
      "D:\\iNeuron\\interview-question-data-science--master\\interview-question-data-science--master\\26.pdf\n",
      "The following file has been copied D:\\iNeuron\\interview-question-data-science--master\\interview-question-data-science--master\\26.pdf\n",
      "D:\\iNeuron\\interview-question-data-science--master\\interview-question-data-science--master\\27.pdf\n",
      "The following file has been copied D:\\iNeuron\\interview-question-data-science--master\\interview-question-data-science--master\\27.pdf\n",
      "D:\\iNeuron\\interview-question-data-science--master\\interview-question-data-science--master\\28.pdf\n",
      "The following file has been copied D:\\iNeuron\\interview-question-data-science--master\\interview-question-data-science--master\\28.pdf\n",
      "D:\\iNeuron\\interview-question-data-science--master\\interview-question-data-science--master\\29.pdf\n",
      "The following file has been copied D:\\iNeuron\\interview-question-data-science--master\\interview-question-data-science--master\\29.pdf\n",
      "D:\\iNeuron\\interview-question-data-science--master\\interview-question-data-science--master\\30.pdf\n",
      "The following file has been copied D:\\iNeuron\\interview-question-data-science--master\\interview-question-data-science--master\\30.pdf\n"
     ]
    }
   ],
   "source": [
    "import os\n",
    "import shutil\n",
    "\n",
    "def get_files_recursively(start_directory, filter_extension = None):\n",
    "    for root, _, files in os.walk(start_directory):\n",
    "        for file in files:\n",
    "            if filter_extension is None or file.lower().endswith(filter_extension):\n",
    "                yield os.path.join(root, file)\n",
    "                \n",
    "def selective_copy(source, target, file_extension = None):\n",
    "    for file in get_files_recursively(source, file_extension):\n",
    "        print(file)\n",
    "        shutil.copy(file, target)\n",
    "        print(\"The following file has been copied\", file)\n",
    "        \n",
    "        \n",
    "selective_copy(\"D:\\iNeuron\\interview-question-data-science--master\\interview-question-data-science--master\", \n",
    "               \"D:\\iNeuron\\interview-question-data-science--master\", \".pdf\")        \n"
   ]
  },
  {
   "cell_type": "code",
   "execution_count": null,
   "metadata": {},
   "outputs": [],
   "source": []
  }
 ],
 "metadata": {
  "kernelspec": {
   "display_name": "Python 3",
   "language": "python",
   "name": "python3"
  },
  "language_info": {
   "codemirror_mode": {
    "name": "ipython",
    "version": 3
   },
   "file_extension": ".py",
   "mimetype": "text/x-python",
   "name": "python",
   "nbconvert_exporter": "python",
   "pygments_lexer": "ipython3",
   "version": "3.8.3"
  }
 },
 "nbformat": 4,
 "nbformat_minor": 4
}
