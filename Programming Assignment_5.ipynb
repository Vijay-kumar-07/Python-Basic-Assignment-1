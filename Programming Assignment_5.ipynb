{
 "cells": [
  {
   "cell_type": "markdown",
   "metadata": {},
   "source": [
    "# 1.\tWrite a Python Program to Find LCM?"
   ]
  },
  {
   "cell_type": "code",
   "execution_count": 1,
   "metadata": {},
   "outputs": [
    {
     "name": "stdout",
     "output_type": "stream",
     "text": [
      "Enter a first number :45\n",
      "Enter a second number :45\n",
      "The LCM of 45 and 45 is 45\n"
     ]
    }
   ],
   "source": [
    "num1 = int(input(\"Enter a first number :\"))\n",
    "num2 =  int(input(\"Enter a second number :\"))\n",
    "def find_LCM(num1, num2):\n",
    "    if num1>num2:\n",
    "        greater = num1\n",
    "    else:\n",
    "        greater = num2\n",
    "    while(True):\n",
    "        if ((greater%num1 == 0) and (greater%num2 == 0)):\n",
    "            lcm = greater\n",
    "            break\n",
    "        greater +=1 \n",
    "    return lcm\n",
    "print(\"The LCM of\", num1, \"and\", num2, \"is\",find_LCM(num1, num2))\n",
    "    "
   ]
  },
  {
   "cell_type": "markdown",
   "metadata": {},
   "source": [
    "# 2.\tWrite a Python Program to Find HCF?"
   ]
  },
  {
   "cell_type": "code",
   "execution_count": 2,
   "metadata": {},
   "outputs": [
    {
     "name": "stdout",
     "output_type": "stream",
     "text": [
      "Enter a first number :12\n",
      "Enter a second number :30\n",
      "The HCF of 12 and 30 is 6\n"
     ]
    }
   ],
   "source": [
    "num1 = int(input(\"Enter a first number :\"))\n",
    "num2 =  int(input(\"Enter a second number :\"))\n",
    "def find_HCF(x,y):\n",
    "    if x>y:\n",
    "        smaller = y\n",
    "    else:\n",
    "        smaller = x\n",
    "    for i in range(1, smaller+1):\n",
    "        if ((x%i==0) and (y%i==0)):\n",
    "            hcf = i\n",
    "    return hcf\n",
    "print(\"The HCF of\", num1, \"and\", num2, \"is\", find_HCF(num1, num2))    "
   ]
  },
  {
   "cell_type": "markdown",
   "metadata": {},
   "source": [
    "# 3.\tWrite a Python Program to Convert Decimal to Binary, Octal and Hexadecimal?"
   ]
  },
  {
   "cell_type": "code",
   "execution_count": 4,
   "metadata": {},
   "outputs": [
    {
     "name": "stdout",
     "output_type": "stream",
     "text": [
      "Enter a Decimal number :60\n",
      "The Decimal value of 60 is :\n",
      "0b111100 in Binary\n",
      "0o74 in Octal\n",
      "0x3c in Hexadecimal\n"
     ]
    }
   ],
   "source": [
    "dec = int(input(\"Enter a Decimal number :\"))\n",
    "print(\"The Decimal value of\", dec, \"is :\")\n",
    "print(bin(dec), \"in Binary\")\n",
    "print(oct(dec), \"in Octal\")\n",
    "print(hex(dec), \"in Hexadecimal\")\n",
    "      "
   ]
  },
  {
   "cell_type": "markdown",
   "metadata": {},
   "source": [
    "# 4.\tWrite a Python Program To Find ASCII value of a character?"
   ]
  },
  {
   "cell_type": "code",
   "execution_count": 10,
   "metadata": {},
   "outputs": [
    {
     "name": "stdout",
     "output_type": "stream",
     "text": [
      "Enter a charcter :B\n",
      "The ASCII value of 'B' is 66\n"
     ]
    }
   ],
   "source": [
    "asc = input(\"Enter a charcter :\")\n",
    "print(\"The ASCII value of '\"+ asc + \"' is\", ord(asc))"
   ]
  },
  {
   "cell_type": "code",
   "execution_count": 12,
   "metadata": {},
   "outputs": [
    {
     "data": {
      "text/plain": [
       "'B'"
      ]
     },
     "execution_count": 12,
     "metadata": {},
     "output_type": "execute_result"
    }
   ],
   "source": [
    "chr(66)"
   ]
  },
  {
   "cell_type": "code",
   "execution_count": 14,
   "metadata": {},
   "outputs": [
    {
     "data": {
      "text/plain": [
       "'b'"
      ]
     },
     "execution_count": 14,
     "metadata": {},
     "output_type": "execute_result"
    }
   ],
   "source": [
    "chr(ord('B')+32)"
   ]
  },
  {
   "cell_type": "markdown",
   "metadata": {},
   "source": [
    "# 5.\tWrite a Python Program to Make a Simple Calculator with 4 basic mathematical operations?"
   ]
  },
  {
   "cell_type": "code",
   "execution_count": 17,
   "metadata": {},
   "outputs": [
    {
     "name": "stdout",
     "output_type": "stream",
     "text": [
      "Select Operation\n",
      "1. Addition\n",
      "2. Subtraction\n",
      "3.Multiplication\n",
      "4.Division\n",
      "Enter Choice (1/2/3/4) :4\n",
      "Enter first number :6\n",
      "Enter second number :2\n",
      "6.0 / 2.0 = 3.0\n"
     ]
    }
   ],
   "source": [
    "def add(x,y):\n",
    "    return x+y\n",
    "def sub(x,y):\n",
    "    return x-y\n",
    "def mul(x,y):\n",
    "    return x*y\n",
    "def div(x,y):\n",
    "    return x/y\n",
    "  \n",
    "print(\"Select Operation\")\n",
    "print(\"1. Addition\")\n",
    "print(\"2. Subtraction\")\n",
    "print(\"3.Multiplication\")\n",
    "print(\"4.Division\")\n",
    "\n",
    "while True:\n",
    "    choice = input(\"Enter Choice (1/2/3/4) :\")\n",
    "    if choice in ('1','2','3','4'):\n",
    "        num1 = float(input(\"Enter first number :\"))\n",
    "        num2 = float(input(\"Enter second number :\"))\n",
    "        \n",
    "        if choice == '1':\n",
    "            print(num1, \"+\", num2, \"=\", add(num1, num2))\n",
    "        elif choice == '2':\n",
    "            print(num1, \"-\", num2, \"=\", sub(num1, num2))\n",
    "        elif choice =='3':\n",
    "            print(num1, \"*\", num2, \"=\", mul(num1, num2))\n",
    "        elif choice =='4':\n",
    "            print(num1, \"/\", num2, \"=\", div(num1, num2))\n",
    "        break\n",
    "    else:\n",
    "        print(\"Invalid Input\")"
   ]
  },
  {
   "cell_type": "code",
   "execution_count": null,
   "metadata": {},
   "outputs": [],
   "source": []
  }
 ],
 "metadata": {
  "kernelspec": {
   "display_name": "Python 3",
   "language": "python",
   "name": "python3"
  },
  "language_info": {
   "codemirror_mode": {
    "name": "ipython",
    "version": 3
   },
   "file_extension": ".py",
   "mimetype": "text/x-python",
   "name": "python",
   "nbconvert_exporter": "python",
   "pygments_lexer": "ipython3",
   "version": "3.8.3"
  }
 },
 "nbformat": 4,
 "nbformat_minor": 4
}
