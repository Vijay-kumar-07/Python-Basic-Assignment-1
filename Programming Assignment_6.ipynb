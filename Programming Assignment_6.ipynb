{
 "cells": [
  {
   "cell_type": "markdown",
   "metadata": {},
   "source": [
    "# 1.\tWrite a Python Program to Display Fibonacci Sequence Using Recursion?"
   ]
  },
  {
   "cell_type": "code",
   "execution_count": 1,
   "metadata": {},
   "outputs": [
    {
     "name": "stdout",
     "output_type": "stream",
     "text": [
      "Enter a number : 7\n",
      "Fibonacci sequence :\n",
      "0\n",
      "1\n",
      "1\n",
      "2\n",
      "3\n",
      "5\n",
      "8\n"
     ]
    }
   ],
   "source": [
    "def func_fibo(n):\n",
    "    if  n<=1:\n",
    "        return n\n",
    "    else:\n",
    "        return (func_fibo(n-1) +func_fibo(n-2))\n",
    "\n",
    "nterms = int(input(\"Enter a number : \"))\n",
    "if nterms <=0:\n",
    "    print(\"Please Enter a positive number\")\n",
    "else :\n",
    "        print(\"Fibonacci sequence :\")\n",
    "        for i in range(nterms):\n",
    "             print(func_fibo(i))\n",
    "    "
   ]
  },
  {
   "cell_type": "markdown",
   "metadata": {},
   "source": [
    "# 2.\tWrite a Python Program to Find Factorial of Number Using Recursion?"
   ]
  },
  {
   "cell_type": "code",
   "execution_count": 14,
   "metadata": {},
   "outputs": [
    {
     "name": "stdout",
     "output_type": "stream",
     "text": [
      "Enter a number :7\n",
      "The factorial of 7 is 5040\n"
     ]
    }
   ],
   "source": [
    "def fact_num(n):\n",
    "    if n ==1:\n",
    "        return n\n",
    "    else:\n",
    "        return n*fact_num(n-1)\n",
    "\n",
    "x = int(input(\"Enter a number :\"))\n",
    "if x<0:\n",
    "    print('Sorry, factorial does not exist for negative numbers')\n",
    "elif x==0:\n",
    "    print(\"The factorial of 0 is 1\")\n",
    "else:\n",
    "    print(\"The factorial of\",x, \"is\", fact_num(x))"
   ]
  },
  {
   "cell_type": "markdown",
   "metadata": {},
   "source": [
    "# 3.\tWrite a Python Program to calculate your Body Mass Index?"
   ]
  },
  {
   "cell_type": "code",
   "execution_count": 2,
   "metadata": {},
   "outputs": [
    {
     "name": "stdout",
     "output_type": "stream",
     "text": [
      "Enter your weight in KG :80\n",
      "Enter your height in Centimeters :171.5\n",
      "Your BODY MASS INDEX is : 27.199551207405076\n"
     ]
    }
   ],
   "source": [
    "# Define the constants\n",
    "const = 100\n",
    "weight = float(input(\"Enter your weight in KG :\"))\n",
    "height = float(input(\"Enter your height in Centimeters :\"))\n",
    "\n",
    "in_meters = height/const\n",
    "#Calculating the BMI\n",
    "BMI = weight/(in_meters**2)\n",
    "\n",
    "print(\"Your BODY MASS INDEX is :\", BMI)"
   ]
  },
  {
   "cell_type": "markdown",
   "metadata": {},
   "source": [
    "# 4.\tWrite a Python Program to calculate the natural logarithm of any number?"
   ]
  },
  {
   "cell_type": "code",
   "execution_count": 1,
   "metadata": {},
   "outputs": [
    {
     "name": "stdout",
     "output_type": "stream",
     "text": [
      "Enter any number :45\n",
      "Natural logarithm of 45.0 is 3.8066624897703196\n"
     ]
    }
   ],
   "source": [
    "x = float(input(\"Enter any number :\"))\n",
    "import math\n",
    "print(\"Natural logarithm of\", x, \"is\",math.log(x))\n"
   ]
  },
  {
   "cell_type": "markdown",
   "metadata": {},
   "source": [
    "# 5.\tWrite a Python Program for cube sum of first n natural numbers?"
   ]
  },
  {
   "cell_type": "code",
   "execution_count": 6,
   "metadata": {},
   "outputs": [
    {
     "name": "stdout",
     "output_type": "stream",
     "text": [
      "Enter a natural number :25\n",
      "Sum of the cubes of first 25 natural numbers is 105625.0\n"
     ]
    }
   ],
   "source": [
    "n = int(input(\"Enter a natural number :\"))\n",
    "sum_of_cubes = (n*(n+1)/2)**2\n",
    "print(\"Sum of the cubes of first\", n, \"natural numbers is\", sum_of_cubes)"
   ]
  },
  {
   "cell_type": "code",
   "execution_count": 7,
   "metadata": {},
   "outputs": [],
   "source": [
    "#OR"
   ]
  },
  {
   "cell_type": "code",
   "execution_count": 11,
   "metadata": {},
   "outputs": [
    {
     "data": {
      "text/plain": [
       "105625"
      ]
     },
     "execution_count": 11,
     "metadata": {},
     "output_type": "execute_result"
    }
   ],
   "source": [
    "def sumOfcubes(n):\n",
    "    s = 0\n",
    "    for i in range(1,n+1):\n",
    "        s += i*i*i\n",
    "    return s\n",
    "sumOfcubes(25)\n",
    "    \n",
    "    "
   ]
  },
  {
   "cell_type": "code",
   "execution_count": null,
   "metadata": {},
   "outputs": [],
   "source": []
  }
 ],
 "metadata": {
  "kernelspec": {
   "display_name": "Python 3",
   "language": "python",
   "name": "python3"
  },
  "language_info": {
   "codemirror_mode": {
    "name": "ipython",
    "version": 3
   },
   "file_extension": ".py",
   "mimetype": "text/x-python",
   "name": "python",
   "nbconvert_exporter": "python",
   "pygments_lexer": "ipython3",
   "version": "3.8.3"
  }
 },
 "nbformat": 4,
 "nbformat_minor": 4
}
