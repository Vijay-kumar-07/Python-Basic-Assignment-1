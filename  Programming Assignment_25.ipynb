{
 "cells": [
  {
   "cell_type": "markdown",
   "metadata": {},
   "source": [
    "# Question1\n",
    "## Create a function that takes three integer arguments (a, b, c) and returns the amount of integers which are of equal value.\n"
   ]
  },
  {
   "cell_type": "code",
   "execution_count": 17,
   "metadata": {},
   "outputs": [
    {
     "name": "stdout",
     "output_type": "stream",
     "text": [
      "2\n",
      "3\n",
      "0\n"
     ]
    }
   ],
   "source": [
    "def equal(a,b,c):\n",
    "    lst =[a,b,c]\n",
    "    \n",
    "    \n",
    "    for i in lst:\n",
    "        if lst[0] == lst[1] == lst[2] :\n",
    "            return 3\n",
    "        elif lst[0] == lst[1]:\n",
    "            return 2\n",
    "        elif lst[1] == lst[2]:\n",
    "            return 2\n",
    "        elif lst[0] == lst[2]:\n",
    "            return 2\n",
    "        else:\n",
    "            return 0\n",
    "    \n",
    "print(equal(3,4,3))\n",
    "print(equal(1,1,1))\n",
    "print(equal(3,4,1))"
   ]
  },
  {
   "cell_type": "markdown",
   "metadata": {},
   "source": [
    "# Question2\n",
    "## Write a function that converts a dictionary into a list of keys-values tuples.\n"
   ]
  },
  {
   "cell_type": "code",
   "execution_count": 24,
   "metadata": {},
   "outputs": [
    {
     "name": "stdout",
     "output_type": "stream",
     "text": [
      "[('B', 2), ('C', 3), ('D', 1)]\n",
      "[('dislikes', 3), ('followers', 10), ('likes', 2)]\n"
     ]
    }
   ],
   "source": [
    "def dict_to_list(dictionary):\n",
    "    return sorted(list(dictionary.items()))\n",
    "\n",
    "print(dict_to_list({\"D\":1,\"B\":2,\"C\":3}))\n",
    "print(dict_to_list({\"likes\":2,\"dislikes\":3,\"followers\":10}))"
   ]
  },
  {
   "cell_type": "markdown",
   "metadata": {},
   "source": [
    "# Question3\n",
    "## Write a function that creates a dictionary with each (key, value) pair being the (lower case, upper case) versions of a letter, respectively.\n"
   ]
  },
  {
   "cell_type": "code",
   "execution_count": 45,
   "metadata": {
    "scrolled": true
   },
   "outputs": [
    {
     "name": "stdout",
     "output_type": "stream",
     "text": [
      "{'p': 'P', 's': 'S'}\n",
      "{'a': 'A', 'b': 'B', 'c': 'C'}\n",
      "{'a': 'A', 'v': 'V', 'y': 'Y', 'z': 'Z'}\n"
     ]
    }
   ],
   "source": [
    "def mapping(keys):\n",
    "    d ={}\n",
    "    for i in keys:\n",
    "        d[i] = i.upper()\n",
    "    return d\n",
    "        \n",
    "        \n",
    "    \n",
    "print(mapping([\"p\",\"s\"]))\n",
    "print(mapping([\"a\",\"b\",\"c\"]))\n",
    "print(mapping([\"a\",\"v\",\"y\",\"z\"]))"
   ]
  },
  {
   "cell_type": "markdown",
   "metadata": {},
   "source": [
    "# Question4\n",
    "## Write a function, that replaces all vowels in a string with a specified vowel.\n"
   ]
  },
  {
   "cell_type": "code",
   "execution_count": 65,
   "metadata": {},
   "outputs": [
    {
     "name": "stdout",
     "output_type": "stream",
     "text": [
      "upplus und bununus\n",
      "chooso cossorolo\n",
      "steffed jelepene peppers\n"
     ]
    }
   ],
   "source": [
    "def vow_replace(string,vow):\n",
    "    vowels = 'aeiouAEIOU'\n",
    "    st = \"\"\n",
    "    for i in string:\n",
    "        if i in vowels:\n",
    "            st += vow\n",
    "        elif i not in vowels:\n",
    "            st +=i\n",
    "    return st\n",
    "                  \n",
    "    \n",
    "    \n",
    "print(vow_replace(\"apples and bananas\",\"u\"))\n",
    "print(vow_replace(\"cheese casserole\",\"o\"))\n",
    "print(vow_replace(\"stuffed jalapeno poppers\",\"e\"))"
   ]
  },
  {
   "cell_type": "markdown",
   "metadata": {},
   "source": [
    "# Question5\n",
    "## Create a function that takes a string as input and capitalizes a letter if its ASCII code is even and returns its lower case version if its ASCII code is odd.\n"
   ]
  },
  {
   "cell_type": "code",
   "execution_count": 68,
   "metadata": {},
   "outputs": [
    {
     "name": "stdout",
     "output_type": "stream",
     "text": [
      "To Be oR NoT To Be!\n",
      "THe LiTTLe meRmaiD\n",
      "oH wHaT a BeauTiFuL moRNiNg.\n"
     ]
    }
   ],
   "source": [
    "def ascii_capitalize(string):\n",
    "    st = \"\"\n",
    "    for i in string:\n",
    "        if ord(i)%2 ==0:\n",
    "            st += i.upper()\n",
    "        else:\n",
    "            st += i.lower()\n",
    "    return st\n",
    "    \n",
    "print(ascii_capitalize(\"to be or not to be!\"))\n",
    "print(ascii_capitalize(\"THE LITTLE MERMAID\"))\n",
    "print(ascii_capitalize(\"Oh what a beautiful morning.\"))\n"
   ]
  },
  {
   "cell_type": "code",
   "execution_count": null,
   "metadata": {},
   "outputs": [],
   "source": []
  }
 ],
 "metadata": {
  "kernelspec": {
   "display_name": "Python 3",
   "language": "python",
   "name": "python3"
  },
  "language_info": {
   "codemirror_mode": {
    "name": "ipython",
    "version": 3
   },
   "file_extension": ".py",
   "mimetype": "text/x-python",
   "name": "python",
   "nbconvert_exporter": "python",
   "pygments_lexer": "ipython3",
   "version": "3.8.3"
  }
 },
 "nbformat": 4,
 "nbformat_minor": 4
}
