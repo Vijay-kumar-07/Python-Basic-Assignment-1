{
 "cells": [
  {
   "cell_type": "markdown",
   "id": "f1eee8d7",
   "metadata": {},
   "source": [
    "## Q1. Describe three applications for exception processing."
   ]
  },
  {
   "cell_type": "markdown",
   "id": "5f97de17",
   "metadata": {},
   "source": [
    "3 applications are : try, except and else.\n",
    "\n",
    "try:\n",
    "    {Run this code}\n",
    "    \n",
    "except:\n",
    "    {Run this code if an exception occurs}\n",
    "    \n",
    "else:\n",
    "    {Run this code if no exception occurs}"
   ]
  },
  {
   "cell_type": "markdown",
   "id": "d4c9cfbd",
   "metadata": {},
   "source": [
    "## Q2. What happens if you don't do something extra to treat an exception?"
   ]
  },
  {
   "cell_type": "markdown",
   "id": "9509e242",
   "metadata": {},
   "source": [
    "When an exception occurred, if you don't handle it, the program terminates abruptly and the code past the line that caused the\n",
    "exception will not get executed."
   ]
  },
  {
   "cell_type": "markdown",
   "id": "8cb2bf49",
   "metadata": {},
   "source": [
    "## Q3. What are your options for recovering from an exception in your script?"
   ]
  },
  {
   "cell_type": "markdown",
   "id": "6f854648",
   "metadata": {},
   "source": [
    "Exceptions are recoverable using try, except and else keywords.\n",
    "\n",
    "Exceptions are the conditions that occur at runtime and may cause the termination of the program. "
   ]
  },
  {
   "cell_type": "markdown",
   "id": "be5d2f20",
   "metadata": {},
   "source": [
    "## Q4. Describe two methods for triggering exceptions in your script."
   ]
  },
  {
   "cell_type": "markdown",
   "id": "54022e85",
   "metadata": {},
   "source": [
    "1. Try - This method catches the exceptions raised by the program.\n",
    "\n",
    "2. Raise - Triggers an exception manually using custom exceptions."
   ]
  },
  {
   "cell_type": "markdown",
   "id": "26ab4628",
   "metadata": {},
   "source": [
    "## Q5. Identify two methods for specifying actions to be executed at termination time, regardless of whether or not an exception exists."
   ]
  },
  {
   "cell_type": "markdown",
   "id": "dd5b3e96",
   "metadata": {},
   "source": [
    "Finally clause- The try statement in Python can also have an optional\n",
    "finally clause. The statements inside the finally block\n",
    "are always executed regardless of whether an exception\n",
    "has occurred in the try block or not."
   ]
  },
  {
   "cell_type": "code",
   "execution_count": null,
   "id": "62ccbd8c",
   "metadata": {},
   "outputs": [],
   "source": []
  }
 ],
 "metadata": {
  "kernelspec": {
   "display_name": "Python 3",
   "language": "python",
   "name": "python3"
  },
  "language_info": {
   "codemirror_mode": {
    "name": "ipython",
    "version": 3
   },
   "file_extension": ".py",
   "mimetype": "text/x-python",
   "name": "python",
   "nbconvert_exporter": "python",
   "pygments_lexer": "ipython3",
   "version": "3.8.8"
  }
 },
 "nbformat": 4,
 "nbformat_minor": 5
}
