{
 "cells": [
  {
   "cell_type": "markdown",
   "id": "411d7e1a",
   "metadata": {},
   "source": [
    "## 1. Create a function that takes a number n (integer greater than zero) as an argument, and returns 2 if n is odd and 8 if n is even.\n",
    "\n",
    "## You can only use the following arithmetic operators: addition of numbers +, subtraction of numbers -, multiplication of number *, division of number /, and exponentiation **.\n",
    "\n",
    "## You are not allowed to use any other methods in this challenge (i.e. no if statements, comparison operators, etc).\n"
   ]
  },
  {
   "cell_type": "code",
   "execution_count": 7,
   "id": "a8db7060",
   "metadata": {},
   "outputs": [
    {
     "name": "stdout",
     "output_type": "stream",
     "text": [
      "2\n",
      "8\n",
      "2\n"
     ]
    }
   ],
   "source": [
    "def f(n):\n",
    "    arr = [8,2]\n",
    "    return arr[n%2]\n",
    "    \n",
    "print(f(1))\n",
    "print(f(2))\n",
    "print(f(3))"
   ]
  },
  {
   "cell_type": "markdown",
   "id": "2c9c5ac1",
   "metadata": {},
   "source": [
    "## 2. Create a function that returns the majority vote in a list. A majority vote is an element that occurs > N/2 times in a list (where N is the length of the list)."
   ]
  },
  {
   "cell_type": "code",
   "execution_count": 41,
   "id": "35d8e0cd",
   "metadata": {},
   "outputs": [
    {
     "name": "stdout",
     "output_type": "stream",
     "text": [
      "A\n",
      "A\n",
      "None\n"
     ]
    }
   ],
   "source": [
    "def majority_vote(lst):\n",
    "    N = len(lst)\n",
    "    dict_ = {}\n",
    "    list_ = []\n",
    "    for i in lst:\n",
    "        dict_[i] =lst.count(i)\n",
    "    for j in dict_:\n",
    "        list_.append(dict_[j])\n",
    "    maximum = max(list_)\n",
    "    key_list = list(dict_.keys())\n",
    "    value_list = list(dict_.values())\n",
    "    position = value_list.index(maximum)\n",
    "    if maximum > N/2:\n",
    "         return key_list[position]\n",
    "        \n",
    "        \n",
    "print(majority_vote([\"A\",\"A\",\"B\"]))\n",
    "print(majority_vote([\"A\", \"A\", \"A\", \"B\", \"C\", \"A\"]))\n",
    "print(majority_vote([\"A\", \"B\", \"B\", \"A\", \"C\", \"C\"]))\n",
    "    "
   ]
  },
  {
   "cell_type": "markdown",
   "id": "a4153645",
   "metadata": {},
   "source": [
    "## 3. Create a function that takes a string txt and censors any word from a given list lst. The text removed must be replaced by the given character char."
   ]
  },
  {
   "cell_type": "code",
   "execution_count": 119,
   "id": "a0853e8c",
   "metadata": {},
   "outputs": [
    {
     "name": "stdout",
     "output_type": "stream",
     "text": [
      "['-----', 'is', '-', 'Wednesday!']\n",
      "['The', '***', 'jumped', '****', 'the', 'moon.']\n",
      "['Why', '***', 'the', '*******', 'cross', 'the', '****', '?']\n"
     ]
    }
   ],
   "source": [
    "def censor_string(txt,lst,char):\n",
    "    words = txt.split()\n",
    "    for i in range(len(words)):\n",
    "        if words[i] in lst:\n",
    "            words[i] = char * len(words[i])\n",
    "    txt = str(words)\n",
    "    return txt\n",
    "\n",
    "\n",
    "print(censor_string(\"Today is a Wednesday!\", [\"Today\", \"a\"],\"-\"))\n",
    "print(censor_string(\"The cow jumped over the moon.\", [\"cow\", \"over\"], \"*\"))\n",
    "print(censor_string(\"Why did the chicken cross the road ?\", [\"did\", \"chicken\", \"road\"], \"*\"))"
   ]
  },
  {
   "cell_type": "markdown",
   "id": "87d9ba9d",
   "metadata": {},
   "source": [
    "## 4. In mathematics a Polydivisible Number (or magic number) is a number in a given number base with digits abcde... that has the following properties:\n",
    "\n",
    "\n",
    "-  Its first digit a is not 0.\n",
    "- The number formed by its first two digits ab is a multiple of 2.\n",
    "- The number formed by its first three digits abc is a multiple of 3.\n",
    "- The number formed by its first four digits abcd is a multiple of 4.\n",
    "\n",
    "## Create a function which takes an integer n and returns True if the given number is a Polydivisible Number and False otherwise."
   ]
  },
  {
   "cell_type": "code",
   "execution_count": 182,
   "id": "06300551",
   "metadata": {},
   "outputs": [
    {
     "name": "stdout",
     "output_type": "stream",
     "text": [
      "True\n",
      "False\n"
     ]
    }
   ],
   "source": [
    "def is_polydivisble(number):\n",
    "    status = False\n",
    "    if (number>0):\n",
    "        n = number\n",
    "        length = 0\n",
    "        #  Count the number of digits in given number\n",
    "        while (n > 0):\n",
    "            n = int(n //10)\n",
    "            length += 1\n",
    "        if (n==1):\n",
    "            # When it's single digit\n",
    "            status = True\n",
    "        else:\n",
    "            data = [0] * (length)\n",
    "            i = length - 1\n",
    "            num =  0\n",
    "            n = number\n",
    "            # Collect number digit\n",
    "            while (n > 0):\n",
    "                data[i]= n%10\n",
    "                n = int(n /10)\n",
    "                i -= 1\n",
    "            # Get first digit\n",
    "            num = data[0]\n",
    "            i = 1\n",
    "            if (num != 0):\n",
    "                # First case\n",
    "                status = True\n",
    "            # Check if digit is divisible by its size for 2...length-1\n",
    "            while (i < length and status):\n",
    "                # Combine digit\n",
    "                num = (num * 10) + data[i]\n",
    "                if (num % (i+1)) != 0:\n",
    "                    # When n digit is not divisible by its size\n",
    "                    status = False\n",
    "                i += 1\n",
    "        if (status):\n",
    "            return True\n",
    "        else :\n",
    "            return False\n",
    "        \n",
    "        \n",
    "    \n",
    "    \n",
    "print(is_polydivisble(1232))\n",
    "print(is_polydivisble(123220))"
   ]
  },
  {
   "cell_type": "markdown",
   "id": "3f478350",
   "metadata": {},
   "source": [
    "## 5. Create a function that takes a list of numbers and returns the sum of all prime numbers in the list."
   ]
  },
  {
   "cell_type": "code",
   "execution_count": 61,
   "id": "18723977",
   "metadata": {},
   "outputs": [
    {
     "name": "stdout",
     "output_type": "stream",
     "text": [
      "17\n",
      "87\n",
      "\n",
      "None\n"
     ]
    }
   ],
   "source": [
    "def sum_primes(lst_of_numbers):\n",
    "    sum_primes = 0\n",
    "    for num in lst_of_numbers:\n",
    "        if num>1:\n",
    "            for i in range(2, num):\n",
    "                if num%i ==0:\n",
    "                    break\n",
    "            else:\n",
    "                sum_primes = sum_primes + num\n",
    "    if sum_primes<1:\n",
    "        print()\n",
    "    else:\n",
    "        return sum_primes\n",
    "                    \n",
    "    \n",
    "    \n",
    "    \n",
    "print(sum_primes([1,2,3,4,5,6,7,8,9,10]))\n",
    "print(sum_primes([2,3,4,11,20,50,71]))\n",
    "print(sum_primes([]))"
   ]
  },
  {
   "cell_type": "code",
   "execution_count": null,
   "id": "f77c193b",
   "metadata": {},
   "outputs": [],
   "source": []
  },
  {
   "cell_type": "code",
   "execution_count": null,
   "id": "d847ed52",
   "metadata": {},
   "outputs": [],
   "source": []
  },
  {
   "cell_type": "code",
   "execution_count": null,
   "id": "da328230",
   "metadata": {},
   "outputs": [],
   "source": []
  }
 ],
 "metadata": {
  "kernelspec": {
   "display_name": "Python 3",
   "language": "python",
   "name": "python3"
  },
  "language_info": {
   "codemirror_mode": {
    "name": "ipython",
    "version": 3
   },
   "file_extension": ".py",
   "mimetype": "text/x-python",
   "name": "python",
   "nbconvert_exporter": "python",
   "pygments_lexer": "ipython3",
   "version": "3.8.8"
  }
 },
 "nbformat": 4,
 "nbformat_minor": 5
}
