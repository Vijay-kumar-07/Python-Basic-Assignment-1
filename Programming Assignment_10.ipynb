{
 "cells": [
  {
   "cell_type": "markdown",
   "metadata": {},
   "source": [
    "# 1.\tWrite a Python program to find sum of elements in list?"
   ]
  },
  {
   "cell_type": "code",
   "execution_count": 1,
   "metadata": {},
   "outputs": [
    {
     "name": "stdout",
     "output_type": "stream",
     "text": [
      "Sum of all elements in list : 152\n"
     ]
    }
   ],
   "source": [
    "# Using for loop\n",
    "list1 = [2,3,45,6,7,89]\n",
    "total = 0\n",
    "for i  in range(0, len(list1)):\n",
    "    total = total + list1[i]\n",
    "    \n",
    "print(\"Sum of all elements in list :\", total)    "
   ]
  },
  {
   "cell_type": "code",
   "execution_count": 2,
   "metadata": {},
   "outputs": [
    {
     "name": "stdout",
     "output_type": "stream",
     "text": [
      "152\n"
     ]
    }
   ],
   "source": [
    "# Using while loop\n",
    "i = 0\n",
    "total = 0\n",
    "while (i< len(list1)):\n",
    "    total = total + list1[i]\n",
    "    i +=1\n",
    "print(total)    "
   ]
  },
  {
   "cell_type": "code",
   "execution_count": 3,
   "metadata": {},
   "outputs": [
    {
     "name": "stdout",
     "output_type": "stream",
     "text": [
      "152\n"
     ]
    }
   ],
   "source": [
    "#Using sum function\n",
    "total = sum(list1)\n",
    "print(total)"
   ]
  },
  {
   "cell_type": "markdown",
   "metadata": {},
   "source": [
    "# 2.\tWrite a Python program to  Multiply all numbers in the list?"
   ]
  },
  {
   "cell_type": "code",
   "execution_count": 4,
   "metadata": {},
   "outputs": [
    {
     "name": "stdout",
     "output_type": "stream",
     "text": [
      "Muliply of all elements in list : 3600\n"
     ]
    }
   ],
   "source": [
    "list2 = [2,3,4,5,5,6]\n",
    "mul = 1\n",
    "for i in range(0, len(list2)):\n",
    "    mul = mul * list2[i]\n",
    "print(\"Muliply of all elements in list :\", mul)    "
   ]
  },
  {
   "cell_type": "code",
   "execution_count": 5,
   "metadata": {},
   "outputs": [
    {
     "name": "stdout",
     "output_type": "stream",
     "text": [
      "3600\n"
     ]
    }
   ],
   "source": [
    "mul = 1\n",
    "i =0\n",
    "while (i<len(list2)):\n",
    "    mul = mul * list2[i]\n",
    "    i +=1\n",
    "print(mul)    "
   ]
  },
  {
   "cell_type": "code",
   "execution_count": 6,
   "metadata": {},
   "outputs": [
    {
     "name": "stdout",
     "output_type": "stream",
     "text": [
      "3600\n",
      "15120\n"
     ]
    }
   ],
   "source": [
    "def multiplylist(mylist):\n",
    "    mul = 1\n",
    "    for i in mylist:\n",
    "        mul = mul * i\n",
    "    return mul    \n",
    "\n",
    "\n",
    "\n",
    "list2 = [2,3,4,5,5,6]\n",
    "list3 = [3,4,5,6,6,7]\n",
    "print(multiplylist(list2))\n",
    "print(multiplylist(list3))\n"
   ]
  },
  {
   "cell_type": "markdown",
   "metadata": {},
   "source": [
    "# 3.\tWrite a Python program to find smallest number in a list?"
   ]
  },
  {
   "cell_type": "code",
   "execution_count": 7,
   "metadata": {},
   "outputs": [
    {
     "name": "stdout",
     "output_type": "stream",
     "text": [
      "Smallest number in a list is : 4\n"
     ]
    }
   ],
   "source": [
    "list4 = [22,33,4,5,55]\n",
    "list4.sort()\n",
    "print(\"Smallest number in a list is :\", list4[0])"
   ]
  },
  {
   "cell_type": "code",
   "execution_count": 8,
   "metadata": {},
   "outputs": [
    {
     "name": "stdout",
     "output_type": "stream",
     "text": [
      "4\n"
     ]
    }
   ],
   "source": [
    "print(min(list4))"
   ]
  },
  {
   "cell_type": "code",
   "execution_count": 9,
   "metadata": {},
   "outputs": [
    {
     "name": "stdout",
     "output_type": "stream",
     "text": [
      "Enter number of elements in a list:4\n",
      "3\n",
      "4\n",
      "5\n",
      "6\n",
      "[3, 4, 5, 6]\n"
     ]
    }
   ],
   "source": [
    "# Taking inputs from the user;\n",
    "list5 = []\n",
    "num = int(input(\"Enter number of elements in a list:\"))\n",
    "for i in range(1, num+1):\n",
    "    ele = int(input())\n",
    "    list5.append(ele)\n",
    "print(list5)    "
   ]
  },
  {
   "cell_type": "markdown",
   "metadata": {},
   "source": [
    "# 4.\tWrite a Python program to find largest number in a list?"
   ]
  },
  {
   "cell_type": "code",
   "execution_count": 10,
   "metadata": {},
   "outputs": [
    {
     "name": "stdout",
     "output_type": "stream",
     "text": [
      "Largest number in a list : 896655\n"
     ]
    }
   ],
   "source": [
    "list6 = [34,5,5,5677,896655]\n",
    "list6.sort()\n",
    "print(\"Largest number in a list :\", list6[-1])"
   ]
  },
  {
   "cell_type": "code",
   "execution_count": 11,
   "metadata": {},
   "outputs": [
    {
     "name": "stdout",
     "output_type": "stream",
     "text": [
      "896655\n"
     ]
    }
   ],
   "source": [
    "print(max(list6))"
   ]
  },
  {
   "cell_type": "markdown",
   "metadata": {},
   "source": [
    "# 5.\tWrite a Python program to find second largest number in a list?"
   ]
  },
  {
   "cell_type": "code",
   "execution_count": 12,
   "metadata": {},
   "outputs": [
    {
     "name": "stdout",
     "output_type": "stream",
     "text": [
      "Second largest number in a list : 89\n"
     ]
    }
   ],
   "source": [
    "list7 = [34,5,6,67,89,100]\n",
    "list7.sort()\n",
    "print(\"Second largest number in a list :\", list7[-2])"
   ]
  },
  {
   "cell_type": "code",
   "execution_count": 13,
   "metadata": {},
   "outputs": [
    {
     "data": {
      "text/plain": [
       "[5, 6, 34, 67, 89, 100]"
      ]
     },
     "execution_count": 13,
     "metadata": {},
     "output_type": "execute_result"
    }
   ],
   "source": [
    "list7"
   ]
  },
  {
   "cell_type": "code",
   "execution_count": 14,
   "metadata": {},
   "outputs": [],
   "source": [
    "#max(list7[0], list7[1], list7[2])"
   ]
  },
  {
   "cell_type": "code",
   "execution_count": 15,
   "metadata": {},
   "outputs": [
    {
     "name": "stdout",
     "output_type": "stream",
     "text": [
      "Second largest number : 89\n"
     ]
    }
   ],
   "source": [
    "print(\"Second largest number :\", sorted(list7)[-2])    \n"
   ]
  },
  {
   "cell_type": "markdown",
   "metadata": {},
   "source": [
    "# 6.\tWrite a Python program to find N largest elements from a list?"
   ]
  },
  {
   "cell_type": "code",
   "execution_count": 16,
   "metadata": {},
   "outputs": [
    {
     "name": "stdout",
     "output_type": "stream",
     "text": [
      "Enter n number :3\n",
      "3 largest elements from a list are : [56, 67, 78]\n"
     ]
    }
   ],
   "source": [
    "list8 = [12,23,34,45,56,67,78]\n",
    "n = int(input(\"Enter n number :\"))\n",
    "list8.sort()\n",
    "print(n, \"largest elements from a list are :\", list8[-n:])"
   ]
  },
  {
   "cell_type": "code",
   "execution_count": 17,
   "metadata": {},
   "outputs": [
    {
     "data": {
      "text/plain": [
       "[67, 78]"
      ]
     },
     "execution_count": 17,
     "metadata": {},
     "output_type": "execute_result"
    }
   ],
   "source": [
    "list8[-2:]"
   ]
  },
  {
   "cell_type": "markdown",
   "metadata": {},
   "source": [
    "# 7.\tWrite a Python program to print even numbers in a list?"
   ]
  },
  {
   "cell_type": "code",
   "execution_count": 18,
   "metadata": {},
   "outputs": [
    {
     "name": "stdout",
     "output_type": "stream",
     "text": [
      "Even numbers in a list : [2, 4, 6, 8, 30]\n"
     ]
    }
   ],
   "source": [
    "list9 = [2,4,6,7,8,25,30]\n",
    "l = []\n",
    "for i in list9:\n",
    "    if i%2==0:\n",
    "        l.append(i)\n",
    "print(\"Even numbers in a list :\", l)\n",
    "        \n",
    "        "
   ]
  },
  {
   "cell_type": "code",
   "execution_count": 19,
   "metadata": {},
   "outputs": [
    {
     "name": "stdout",
     "output_type": "stream",
     "text": [
      "2 4 6 8 30 "
     ]
    }
   ],
   "source": [
    "for i in list9:\n",
    "    if i%2==0:\n",
    "        print(i, end = ' ')"
   ]
  },
  {
   "cell_type": "markdown",
   "metadata": {},
   "source": [
    "# 8.\tWrite a Python program to print odd numbers in a List?"
   ]
  },
  {
   "cell_type": "code",
   "execution_count": 20,
   "metadata": {},
   "outputs": [
    {
     "name": "stdout",
     "output_type": "stream",
     "text": [
      "Odd numbers in a list : [3, 5, 7, 9, 11]\n"
     ]
    }
   ],
   "source": [
    "list10 = [3,5,7,8,9,10,11]\n",
    "l = []\n",
    "for i in list10:\n",
    "    if i%2 ==0:\n",
    "        pass\n",
    "    else:\n",
    "        l.append(i)\n",
    "print(\"Odd numbers in a list :\", l)        \n",
    "    "
   ]
  },
  {
   "cell_type": "code",
   "execution_count": 21,
   "metadata": {},
   "outputs": [
    {
     "name": "stdout",
     "output_type": "stream",
     "text": [
      "3 5 7 9 11 "
     ]
    }
   ],
   "source": [
    "for i in list10:\n",
    "    if i%2 != 0:\n",
    "        print(i, end = ' ')"
   ]
  },
  {
   "cell_type": "markdown",
   "metadata": {},
   "source": [
    "# 9.\tWrite a Python program to Remove empty List from List?"
   ]
  },
  {
   "cell_type": "code",
   "execution_count": 22,
   "metadata": {},
   "outputs": [
    {
     "name": "stdout",
     "output_type": "stream",
     "text": [
      "The original list is :[2, [], [], [], 45, 100, []]\n",
      "List after empty list removal :[2, 45, 100]\n"
     ]
    }
   ],
   "source": [
    "# Using list comprehension\n",
    "list11 = [2, [], [], [], 45, 100, []]\n",
    "print(\"The original list is :\" +str(list11))\n",
    "res = [ele for ele in list11 if ele != []]\n",
    "print(\"List after empty list removal :\" +str(res))"
   ]
  },
  {
   "cell_type": "code",
   "execution_count": 23,
   "metadata": {},
   "outputs": [
    {
     "name": "stdout",
     "output_type": "stream",
     "text": [
      "[2, 45, 100]\n"
     ]
    }
   ],
   "source": [
    "# Using filter()\n",
    "res = list(filter(None, list11))\n",
    "print(res)"
   ]
  },
  {
   "cell_type": "markdown",
   "metadata": {},
   "source": [
    "# 10.\tWrite a Python program to Cloning or Copying a list?"
   ]
  },
  {
   "cell_type": "code",
   "execution_count": 24,
   "metadata": {},
   "outputs": [
    {
     "name": "stdout",
     "output_type": "stream",
     "text": [
      "Origianl List : [34, 5, 6, 6, 7, 89]\n",
      "After Cloning : [34, 5, 6, 6, 7, 89]\n"
     ]
    }
   ],
   "source": [
    "#Using slicing technique\n",
    "def Cloning(list12):\n",
    "    lt_copy = list12[:]\n",
    "    return lt_copy\n",
    "        \n",
    "list12 = [34,5,6,6,7,89]\n",
    "lt_copy = Cloning(list12)\n",
    "print(\"Origianl List :\", list12)\n",
    "print(\"After Cloning :\", lt_copy)"
   ]
  },
  {
   "cell_type": "code",
   "execution_count": 25,
   "metadata": {},
   "outputs": [
    {
     "data": {
      "text/plain": [
       "[34, 5, 6, 6, 7, 89]"
      ]
     },
     "execution_count": 25,
     "metadata": {},
     "output_type": "execute_result"
    }
   ],
   "source": [
    "list12"
   ]
  },
  {
   "cell_type": "code",
   "execution_count": 26,
   "metadata": {},
   "outputs": [
    {
     "name": "stdout",
     "output_type": "stream",
     "text": [
      "[34, 5, 6, 6, 7, 89]\n"
     ]
    }
   ],
   "source": [
    "#Using Extend method:\n",
    "l_ext = []\n",
    "l_ext.extend(list12)\n",
    "print(l_ext)"
   ]
  },
  {
   "cell_type": "code",
   "execution_count": 27,
   "metadata": {},
   "outputs": [
    {
     "name": "stdout",
     "output_type": "stream",
     "text": [
      "[34, 5, 6, 6, 7, 89]\n"
     ]
    }
   ],
   "source": [
    "#Using list method\n",
    "lst = list(list12)\n",
    "print(lst)"
   ]
  },
  {
   "cell_type": "code",
   "execution_count": 28,
   "metadata": {},
   "outputs": [
    {
     "name": "stdout",
     "output_type": "stream",
     "text": [
      "[34, 5, 6, 6, 7, 89]\n"
     ]
    }
   ],
   "source": [
    "#Using the method of Shallow copy :\n",
    "### Any changes made to a copy of object do reflect in the original object.\n",
    "\n",
    "import copy\n",
    "lst_shlw =copy.copy(list12)\n",
    "print(lst_shlw)"
   ]
  },
  {
   "cell_type": "code",
   "execution_count": 29,
   "metadata": {},
   "outputs": [
    {
     "name": "stdout",
     "output_type": "stream",
     "text": [
      "[34, 5, 6, 6, 7, 89]\n"
     ]
    }
   ],
   "source": [
    "#Using copy method:\n",
    "lst_cy = []\n",
    "lst_cy = list12.copy()\n",
    "print(lst_cy)"
   ]
  },
  {
   "cell_type": "code",
   "execution_count": 30,
   "metadata": {},
   "outputs": [
    {
     "name": "stdout",
     "output_type": "stream",
     "text": [
      "[34, 5, 6, 6, 7, 89]\n"
     ]
    }
   ],
   "source": [
    "#Using Deepcopy:\n",
    "####  Any changes made to a copy of object do not reflect in the original object.\n",
    "\n",
    "import copy\n",
    "lst_dp = copy.deepcopy(list12)\n",
    "print(lst_dp)"
   ]
  },
  {
   "cell_type": "markdown",
   "metadata": {},
   "source": [
    "# 11.\tWrite a Python program to Count occurrences of an element in a list?"
   ]
  },
  {
   "cell_type": "code",
   "execution_count": 31,
   "metadata": {},
   "outputs": [
    {
     "name": "stdout",
     "output_type": "stream",
     "text": [
      "70 has occured 3 times\n"
     ]
    }
   ],
   "source": [
    "def CountX(list13, x):\n",
    "    return list13.count(x)\n",
    "    \n",
    "    \n",
    "list13 = [67, 70, 70, 10, 30, 100,10, 70]\n",
    "x = 70\n",
    "print('{} has occured {} times'.format(x, CountX(list13, x)))"
   ]
  },
  {
   "cell_type": "code",
   "execution_count": 32,
   "metadata": {},
   "outputs": [
    {
     "data": {
      "text/plain": [
       "3"
      ]
     },
     "execution_count": 32,
     "metadata": {},
     "output_type": "execute_result"
    }
   ],
   "source": [
    "list13.count(70)"
   ]
  },
  {
   "cell_type": "code",
   "execution_count": 33,
   "metadata": {},
   "outputs": [
    {
     "name": "stdout",
     "output_type": "stream",
     "text": [
      "3\n"
     ]
    }
   ],
   "source": [
    "#Simple approcach\n",
    "x = 70\n",
    "count = 0\n",
    "for i in list13:\n",
    "    if (i == x):\n",
    "        count = count+1\n",
    "print(count) "
   ]
  },
  {
   "cell_type": "code",
   "execution_count": null,
   "metadata": {},
   "outputs": [],
   "source": []
  }
 ],
 "metadata": {
  "kernelspec": {
   "display_name": "Python 3",
   "language": "python",
   "name": "python3"
  },
  "language_info": {
   "codemirror_mode": {
    "name": "ipython",
    "version": 3
   },
   "file_extension": ".py",
   "mimetype": "text/x-python",
   "name": "python",
   "nbconvert_exporter": "python",
   "pygments_lexer": "ipython3",
   "version": "3.8.3"
  }
 },
 "nbformat": 4,
 "nbformat_minor": 4
}
