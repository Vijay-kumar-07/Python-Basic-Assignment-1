{
 "cells": [
  {
   "cell_type": "markdown",
   "metadata": {},
   "source": [
    "# 1.\tWrite a Python program to Extract Unique values dictionary values?"
   ]
  },
  {
   "cell_type": "code",
   "execution_count": 1,
   "metadata": {},
   "outputs": [
    {
     "name": "stdout",
     "output_type": "stream",
     "text": [
      "Original dictionary is : {'D1': [1, 1, 1, 1, 1], 'D2': [2, 2, 2, 2, 2], 'D3': [3, 3, 3, 3, 3, 'Hello'], 'D4': [4, 4, 4, 4, 4], 'D5': [5, 5, 5, 5, 5]}\n",
      "The unique value lists is: [1, 2, 3, 4, 5, 'Hello']\n"
     ]
    }
   ],
   "source": [
    "my_dict = {'D1':[1,1,1,1,1],\n",
    "          'D2':[2,2,2,2,2],\n",
    "          'D3':[3,3,3,3,3, \"Hello\"],\n",
    "          'D4':[4,4,4,4,4],\n",
    "          'D5':[5,5,5,5,5]}\n",
    "print(\"Original dictionary is :\", my_dict)\n",
    "\n",
    "result = list({j for i in my_dict.values() for j in i})\n",
    "print(\"The unique value lists is:\", result)\n"
   ]
  },
  {
   "cell_type": "code",
   "execution_count": 2,
   "metadata": {},
   "outputs": [
    {
     "data": {
      "text/plain": [
       "[1, 2, 4, 5]"
      ]
     },
     "execution_count": 2,
     "metadata": {},
     "output_type": "execute_result"
    }
   ],
   "source": [
    "sorted({1,4,5,2,1})\n",
    "#my_dict.items()"
   ]
  },
  {
   "cell_type": "markdown",
   "metadata": {},
   "source": [
    "# 2.\tWrite a Python program to find the sum of all items in a dictionary?"
   ]
  },
  {
   "cell_type": "code",
   "execution_count": 3,
   "metadata": {},
   "outputs": [
    {
     "name": "stdout",
     "output_type": "stream",
     "text": [
      "sum 1000\n"
     ]
    }
   ],
   "source": [
    "def returnsum(dict2):\n",
    "    sum = 0\n",
    "    for i in dict2:\n",
    "        sum = sum +dict2[i]\n",
    "    return sum    \n",
    "\n",
    "\n",
    "my_dict2 = {\"A\":100, \"B\":200, \"C\":300, \"D\":400}\n",
    "print(\"sum\", returnsum(my_dict2))"
   ]
  },
  {
   "cell_type": "code",
   "execution_count": 4,
   "metadata": {},
   "outputs": [
    {
     "name": "stdout",
     "output_type": "stream",
     "text": [
      "1000\n"
     ]
    }
   ],
   "source": [
    "#OR\n",
    "sum = 0\n",
    "for i in my_dict2.values():\n",
    "    sum += i\n",
    "print(sum)    "
   ]
  },
  {
   "cell_type": "markdown",
   "metadata": {},
   "source": [
    "# 3.\tWrite a Python program to Merging two Dictionaries?"
   ]
  },
  {
   "cell_type": "code",
   "execution_count": 5,
   "metadata": {},
   "outputs": [
    {
     "name": "stdout",
     "output_type": "stream",
     "text": [
      "{'A': 100, 'B': 200, 'C': 300, 'D': 400, 'E': 500, 'F': 600, 'G': 700, 'H': 800}\n"
     ]
    }
   ],
   "source": [
    "def Merge(dict2, dict3):\n",
    "    res = {**dict2, **dict3}\n",
    "    return res\n",
    "\n",
    "\n",
    "my_dict2 = {\"A\":100, \"B\":200, \"C\":300, \"D\":400}\n",
    "my_dict3 = {'E':500, 'F':600, 'G':700, 'H':800}\n",
    "my_dict4 = Merge(my_dict2, my_dict3)\n",
    "print(my_dict4)"
   ]
  },
  {
   "cell_type": "code",
   "execution_count": 6,
   "metadata": {},
   "outputs": [],
   "source": [
    "#OR\n",
    "# return dict3.update(dict2)"
   ]
  },
  {
   "cell_type": "markdown",
   "metadata": {},
   "source": [
    "# 4.\tWrite a Python program to convert key-values list to flat dictionary?"
   ]
  },
  {
   "cell_type": "code",
   "execution_count": 7,
   "metadata": {},
   "outputs": [
    {
     "name": "stdout",
     "output_type": "stream",
     "text": [
      "Original Dictionary :{'Day': [1, 2, 3], 'Name': ['Mon', 'Tue', 'Wed']}\n",
      "Flattended Dictionary :{1: 'Mon', 2: 'Tue', 3: 'Wed'}\n"
     ]
    }
   ],
   "source": [
    "#dict()+ zip()\n",
    "my_dict5 = {'Day' : [1,2,3],\n",
    "           'Name': ['Mon', 'Tue', 'Wed']}\n",
    "print(\"Original Dictionary :\" +str(my_dict5))\n",
    "result = dict(zip(my_dict5['Day'], my_dict5['Name']))\n",
    "print(\"Flattended Dictionary :\"+ str(result))"
   ]
  },
  {
   "cell_type": "markdown",
   "metadata": {},
   "source": [
    "# 5.\tWrite a Python program to insertion at the beginning in OrderedDict?"
   ]
  },
  {
   "cell_type": "code",
   "execution_count": 8,
   "metadata": {},
   "outputs": [
    {
     "name": "stdout",
     "output_type": "stream",
     "text": [
      "Resultant Dictionary: OrderedDict([('Mar', 3), ('Jan', 1), ('Feb', 2)])\n"
     ]
    }
   ],
   "source": [
    "# Using OrderedDict.move_to_end()\n",
    "from collections import OrderedDict\n",
    "\n",
    "#Initializing OrderDict\n",
    "inordered_dict = OrderedDict([('Jan', 1), ('Feb', 2)])\n",
    "\n",
    "inordered_dict.update({'Mar':3})\n",
    "#Inserting items in starting of Dict\n",
    "inordered_dict.move_to_end('Mar', last = False)\n",
    "print(\"Resultant Dictionary: \" + str(inordered_dict))"
   ]
  },
  {
   "cell_type": "code",
   "execution_count": 9,
   "metadata": {},
   "outputs": [
    {
     "name": "stdout",
     "output_type": "stream",
     "text": [
      "OrderedDict([('Mar', 3), ('Apr', 4), ('Jan', 1), ('Feb', 2)])\n"
     ]
    }
   ],
   "source": [
    "# Using Naive Approach\n",
    "inordered_dict1 = OrderedDict([('Jan', 1), ('Feb', 2)])\n",
    "inordered_dict2 = OrderedDict([('Mar', 3), ('Apr', 4)])\n",
    "\n",
    "both = OrderedDict(list(inordered_dict2.items()) + list(inordered_dict1.items()))\n",
    "print(both)\n"
   ]
  },
  {
   "cell_type": "markdown",
   "metadata": {},
   "source": [
    "# 6.\tWrite a Python program to check order of character in string using OrderedDict()?"
   ]
  },
  {
   "cell_type": "code",
   "execution_count": 10,
   "metadata": {},
   "outputs": [
    {
     "name": "stdout",
     "output_type": "stream",
     "text": [
      "True\n"
     ]
    }
   ],
   "source": [
    "from collections import OrderedDict\n",
    "def checkOrder(input, pattern):\n",
    "    # create empty OrderedDict output will be like {'a': None,'b': None, 'c': None} \n",
    "    dict = OrderedDict.fromkeys(input)\n",
    "    patternlen = 0\n",
    "    for key, value in dict.items():\n",
    "        if (key == pattern[patternlen]):\n",
    "            patternlen += 1\n",
    "        if (patternlen == (len(pattern))):\n",
    "            return 'True'\n",
    "        \n",
    "    return 'False'    \n",
    "            \n",
    "\n",
    "\n",
    "\n",
    "input = 'check order of character'\n",
    "pattern = 'chk'\n",
    "print(checkOrder(input, pattern))"
   ]
  },
  {
   "cell_type": "markdown",
   "metadata": {},
   "source": [
    "# 7.\tWrite a Python program to sort Python Dictionaries by Key or Value?"
   ]
  },
  {
   "cell_type": "code",
   "execution_count": 11,
   "metadata": {},
   "outputs": [
    {
     "name": "stdout",
     "output_type": "stream",
     "text": [
      "A D F Z "
     ]
    }
   ],
   "source": [
    "def dictionary():\n",
    "    my_dict10 = {}\n",
    "    my_dict10['A'] = 15\n",
    "    my_dict10['Z'] = 95\n",
    "    my_dict10['D'] = 45\n",
    "    my_dict10['F'] = 55\n",
    "    for i in sorted(my_dict10.keys()):\n",
    "        print(i, end = ' ')\n",
    "    # For Keys and Values\n",
    "    ## for i in sorted(my_dict10):\n",
    "    ##        print(i, my_dict10[i])\n",
    "        \n",
    "    \n",
    "    \n",
    "    \n",
    "def main(): \n",
    "    dictionary()\n",
    "main()    "
   ]
  },
  {
   "cell_type": "code",
   "execution_count": 12,
   "metadata": {},
   "outputs": [
    {
     "name": "stdout",
     "output_type": "stream",
     "text": [
      "OrderedDict([('rajnish', '9'), ('ravi', '10'), ('sanjeev', '15'), ('suraj', '32'), ('yash', '2')])\n"
     ]
    }
   ],
   "source": [
    "#OR\n",
    "from collections import OrderedDict\n",
    "  \n",
    "dict = {'ravi':'10','rajnish':'9','sanjeev':'15','yash':'2','suraj':'32'}\n",
    "dict1 = OrderedDict(sorted(dict.items()))\n",
    "print(dict1)"
   ]
  },
  {
   "cell_type": "code",
   "execution_count": null,
   "metadata": {},
   "outputs": [],
   "source": []
  },
  {
   "cell_type": "code",
   "execution_count": null,
   "metadata": {},
   "outputs": [],
   "source": []
  }
 ],
 "metadata": {
  "kernelspec": {
   "display_name": "Python 3",
   "language": "python",
   "name": "python3"
  },
  "language_info": {
   "codemirror_mode": {
    "name": "ipython",
    "version": 3
   },
   "file_extension": ".py",
   "mimetype": "text/x-python",
   "name": "python",
   "nbconvert_exporter": "python",
   "pygments_lexer": "ipython3",
   "version": "3.8.3"
  }
 },
 "nbformat": 4,
 "nbformat_minor": 4
}
