{
 "cells": [
  {
   "cell_type": "markdown",
   "metadata": {},
   "source": [
    "# Question1\n",
    "## Write a function that takes a list and a number as arguments. Add the number to the end of the list, then remove the first element of the list. The function should then return the updated list.\n"
   ]
  },
  {
   "cell_type": "code",
   "execution_count": 121,
   "metadata": {},
   "outputs": [
    {
     "name": "stdout",
     "output_type": "stream",
     "text": [
      "[6, 7, 8, 9, 1]\n",
      "[6, 3, 23, 17, 10]\n",
      "[10, 20, 42, 6]\n",
      "No list has been selected\n",
      "[]\n"
     ]
    }
   ],
   "source": [
    "def next_in_line(lst,n):\n",
    "    if len(lst) ==0:\n",
    "        print(\"No list has been selected\")\n",
    "    else:\n",
    "        lst.pop(0)\n",
    "        lst.append(n)\n",
    "    return lst\n",
    "    \n",
    "print(next_in_line([5,6,7,8,9],1))   \n",
    "print(next_in_line([7, 6, 3, 23, 17], 10))\n",
    "print(next_in_line([1, 10, 20, 42 ], 6))\n",
    "print(next_in_line([], 6))"
   ]
  },
  {
   "cell_type": "markdown",
   "metadata": {},
   "source": [
    "# Question2\n",
    "## Create the function that takes a list of dictionaries and returns the sum of people's budgets.\n"
   ]
  },
  {
   "cell_type": "code",
   "execution_count": 122,
   "metadata": {},
   "outputs": [
    {
     "name": "stdout",
     "output_type": "stream",
     "text": [
      "Sum of people's budget : 65700\n",
      "Sum of people's budget : 62600\n"
     ]
    }
   ],
   "source": [
    "def get_budgets(lst):\n",
    "    res = [i['budget'] for i in lst]\n",
    "    l = 0\n",
    "    for i in res:\n",
    "        l = l + i\n",
    "    return l   \n",
    "    \n",
    "    \n",
    "print(\"Sum of people's budget :\",get_budgets([\n",
    "  { \"name\": \"John\", \"age\": 21, \"budget\": 23000 },\n",
    "  { \"name\": \"Steve\",  \"age\": 32, \"budget\": 40000 },\n",
    "  { \"name\": \"Martin\",  \"age\": 16, \"budget\": 2700 }]))\n",
    "print(\"Sum of people's budget :\",get_budgets([\n",
    "  { \"name\": \"John\",  \"age\": 21, \"budget\": 29000 },\n",
    "  { \"name\": \"Steve\",  \"age\": 32, \"budget\": 32000 },\n",
    "  { \"name\": \"Martin\",  \"age\": 16, \"budget\": 1600 }]))"
   ]
  },
  {
   "cell_type": "markdown",
   "metadata": {},
   "source": [
    "# Question3\n",
    "## Create a function that takes a string and returns a string with its letters in alphabetical order.\n",
    "\n"
   ]
  },
  {
   "cell_type": "code",
   "execution_count": 123,
   "metadata": {},
   "outputs": [
    {
     "name": "stdout",
     "output_type": "stream",
     "text": [
      "ehllo\n",
      "abdeit\n",
      "acehkr\n",
      "eegk\n",
      "aacijprstv\n"
     ]
    }
   ],
   "source": [
    "def alphabet_soup(string):\n",
    "    st = sorted(string)\n",
    "    string = \"\".join(st)\n",
    "    return string\n",
    "    \n",
    "print(alphabet_soup('hello'))\n",
    "print(alphabet_soup('abdeit'))\n",
    "print(alphabet_soup('hacker'))\n",
    "print(alphabet_soup('geek'))\n",
    "print(alphabet_soup(\"javascript\"))\n"
   ]
  },
  {
   "cell_type": "markdown",
   "metadata": {},
   "source": [
    "# Question4\n",
    "## Suppose that you invest $10,000 for 10 years at an interest rate of 6% compounded monthly. What will be the value of your investment at the end of the 10 year period? \n",
    "\n",
    "## Create a function that accepts the principal p, the term in years t, the interest rate r, and the number of compounding periods per year n. The function returns the value at the end of term rounded to the nearest cent. \n",
    "\n",
    "## For the example above: compound_interest(10000, 10, 0.06, 12) ➞ 18193.97 \n",
    "\n",
    "## Note that the interest rate is given as a decimal and n=12 because with monthly compounding there are 12 periods per year. Compounding can also be done annually, quarterly, weekly, or daily.\n"
   ]
  },
  {
   "cell_type": "code",
   "execution_count": 124,
   "metadata": {},
   "outputs": [
    {
     "name": "stdout",
     "output_type": "stream",
     "text": [
      "18193.97\n",
      "105.00\n",
      "15399.26\n",
      "2007316.26\n"
     ]
    }
   ],
   "source": [
    "# n = number of times interest applied per time period\n",
    "def compound_interest(Principal, time, rate,n):\n",
    "    final_amount = Principal*(pow(1+(rate/n),n*time))\n",
    "    return final_amount \n",
    "\n",
    "print('{0:.2f}'.format(compound_interest(10000,10,0.06,12)))\n",
    "print('{0:.2f}'.format(compound_interest(100, 1, 0.05, 1)))\n",
    "print('{0:.2f}'.format(compound_interest(3500, 15, 0.1, 4)))\n",
    "print('{0:.2f}'.format(compound_interest(100000, 20, 0.15, 365)))"
   ]
  },
  {
   "cell_type": "markdown",
   "metadata": {},
   "source": [
    "# Question5\n",
    "## Write a function that takes a list of elements and returns only the integers.\n"
   ]
  },
  {
   "cell_type": "code",
   "execution_count": 125,
   "metadata": {},
   "outputs": [
    {
     "name": "stdout",
     "output_type": "stream",
     "text": [
      "[9, 2, 16]\n",
      "[81, 123]\n",
      "[10, 56, 20, 3]\n",
      "[1]\n"
     ]
    }
   ],
   "source": [
    "def return_ony_integer(lst):\n",
    "    l = []\n",
    "    for i in lst:\n",
    "        if type(i) == int:\n",
    "            l.append(i)\n",
    "    return l\n",
    "        \n",
    "print(return_ony_integer([9,2,\"space\",\"car\",\"lion\",16]))\n",
    "print(return_ony_integer([\"hello\",81,\"basketball\",123,\"fox\"]))\n",
    "print(return_ony_integer([10,\"121\",56,20,\"car\",3,\"lion\"]))\n",
    "print(return_ony_integer([\"String\",True,3.3,1]))"
   ]
  },
  {
   "cell_type": "code",
   "execution_count": null,
   "metadata": {},
   "outputs": [],
   "source": []
  }
 ],
 "metadata": {
  "kernelspec": {
   "display_name": "Python 3",
   "language": "python",
   "name": "python3"
  },
  "language_info": {
   "codemirror_mode": {
    "name": "ipython",
    "version": 3
   },
   "file_extension": ".py",
   "mimetype": "text/x-python",
   "name": "python",
   "nbconvert_exporter": "python",
   "pygments_lexer": "ipython3",
   "version": "3.8.3"
  }
 },
 "nbformat": 4,
 "nbformat_minor": 4
}
