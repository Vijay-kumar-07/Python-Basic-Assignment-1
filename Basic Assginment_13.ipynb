{
 "cells": [
  {
   "cell_type": "markdown",
   "metadata": {},
   "source": [
    "# 1. What advantages do Excel spreadsheets have over CSV spreadsheets?"
   ]
  },
  {
   "cell_type": "markdown",
   "metadata": {},
   "source": [
    "- CSV file can't perform operations on data while Excel can perform operations on the data.\n",
    "- Excel spreadsheets easier for the end user to read large files, CSV is not easier.\n",
    "- Excel also provides the user option for external linking of data from other sources and also the user can do custom add-ins, No such feature is available in CSV."
   ]
  },
  {
   "cell_type": "markdown",
   "metadata": {},
   "source": [
    "# 2.What do you pass to csv.reader() and csv.writer() to create reader and writer objects?"
   ]
  },
  {
   "cell_type": "markdown",
   "metadata": {},
   "source": [
    "import csv\n",
    " \n",
    "    #Open the csv file object\n",
    "with open('sample.csv', 'r') as f:\n",
    "    # Construct the csv reader object from the file object\n",
    "    reader = csv.reader(f)\n",
    "    \n",
    "import csv\n",
    " \n",
    "    #Open the csv file object\n",
    "with open('sample.csv', 'w') as f:\n",
    "    # Construct the csv reader object from the file object\n",
    "    writer = csv.writer(f)    \n",
    "    \n",
    "    \n",
    "    \n",
    "- The reader object will be an iterable consisting of all the rows in the csv file. By default, each row will be a Python List, so it will be very convenient for us!    \n",
    "  \n",
    "- We pass the csv file object and mode - 'r' to reader object and mode - 'w' to writer object  \n",
    "    "
   ]
  },
  {
   "cell_type": "markdown",
   "metadata": {},
   "source": [
    "# 3. What modes do File objects for reader and writer objects need to be opened in?"
   ]
  },
  {
   "cell_type": "markdown",
   "metadata": {},
   "source": [
    "- File object passed to csv.reader() needs to be opened in read mode by passing 'r' as the second argument to open(). \n",
    "- File object passed to csv.writer() needs to be opened in write mode by passing w' as the second argument to open(). "
   ]
  },
  {
   "cell_type": "markdown",
   "metadata": {},
   "source": [
    "# 4. What method takes a list argument and writes it to a CSV file?"
   ]
  },
  {
   "cell_type": "markdown",
   "metadata": {},
   "source": [
    "- writerows()\n",
    "\n",
    "This method takes a list of iterables as parameter and writes each item as a comma separated line of items in the CSV file.   "
   ]
  },
  {
   "cell_type": "markdown",
   "metadata": {},
   "source": [
    "# 5. What do the keyword arguments delimiter and line terminator do?"
   ]
  },
  {
   "cell_type": "markdown",
   "metadata": {},
   "source": [
    "- The line terminator is the character that comes at the end of a row. By default, the line terminator is a newline. \n",
    "- You can change characters to different values by using the delimiter and lineterminator keyword arguments with csv. writer().\n",
    "\n",
    "- If you want to parse individual words, by separating using the whitespace character, you can simply pass it to csv.reader(delimiter=' ') as a delimiter character."
   ]
  },
  {
   "cell_type": "markdown",
   "metadata": {},
   "source": [
    "# 6. What function takes a string of JSON data and returns a Python data structure?"
   ]
  },
  {
   "cell_type": "markdown",
   "metadata": {},
   "source": [
    "- json.loads()\n",
    "\n",
    "The above function takes a string of JSON data and returns a Python data"
   ]
  },
  {
   "cell_type": "markdown",
   "metadata": {},
   "source": [
    "# 7. What function takes a Python data structure and returns a string of JSON data?"
   ]
  },
  {
   "cell_type": "markdown",
   "metadata": {},
   "source": [
    "- json.dumps()\n",
    "\n",
    "This function takes a Python data structure and returns a string of JSON data"
   ]
  },
  {
   "cell_type": "code",
   "execution_count": null,
   "metadata": {},
   "outputs": [],
   "source": []
  }
 ],
 "metadata": {
  "kernelspec": {
   "display_name": "Python 3",
   "language": "python",
   "name": "python3"
  },
  "language_info": {
   "codemirror_mode": {
    "name": "ipython",
    "version": 3
   },
   "file_extension": ".py",
   "mimetype": "text/x-python",
   "name": "python",
   "nbconvert_exporter": "python",
   "pygments_lexer": "ipython3",
   "version": "3.8.3"
  }
 },
 "nbformat": 4,
 "nbformat_minor": 4
}
