{
 "cells": [
  {
   "cell_type": "markdown",
   "metadata": {},
   "source": [
    "### 1. Add the current date to the text file today.txt as a string."
   ]
  },
  {
   "cell_type": "code",
   "execution_count": 29,
   "metadata": {},
   "outputs": [],
   "source": [
    "import datetime\n",
    "\n",
    "filename = str(datetime.date.today())\n",
    "\n",
    "\n",
    "file = open('today.txt','w')\n",
    "file.write(filename)\n",
    "file.close()\n",
    "        "
   ]
  },
  {
   "cell_type": "markdown",
   "metadata": {},
   "source": [
    "### 2. Read the text file today.txt into the string today_string"
   ]
  },
  {
   "cell_type": "code",
   "execution_count": 30,
   "metadata": {},
   "outputs": [
    {
     "data": {
      "text/plain": [
       "'2021-07-06'"
      ]
     },
     "execution_count": 30,
     "metadata": {},
     "output_type": "execute_result"
    }
   ],
   "source": [
    "today_string = open('today.txt','r')\n",
    "today_string.read()"
   ]
  },
  {
   "cell_type": "markdown",
   "metadata": {},
   "source": [
    "### 3. Parse the date from today_string."
   ]
  },
  {
   "cell_type": "code",
   "execution_count": 34,
   "metadata": {},
   "outputs": [
    {
     "data": {
      "text/plain": [
       "'2021-07-06'"
      ]
     },
     "execution_count": 34,
     "metadata": {},
     "output_type": "execute_result"
    }
   ],
   "source": [
    "today_string.seek(0)\n",
    "today_string.read(10)"
   ]
  },
  {
   "cell_type": "markdown",
   "metadata": {},
   "source": [
    "### 4. List the files in your current directory"
   ]
  },
  {
   "cell_type": "code",
   "execution_count": 35,
   "metadata": {},
   "outputs": [
    {
     "data": {
      "text/plain": [
       "['.ipynb_checkpoints',\n",
       " '06 July 2021.txt',\n",
       " 'Basic Assginment_10.ipynb',\n",
       " 'Basic Assginment_11.ipynb',\n",
       " 'Basic Assginment_12.ipynb',\n",
       " 'Basic Assginment_13.ipynb',\n",
       " 'Basic Assginment_14.ipynb',\n",
       " 'Basic Assginment_15.ipynb',\n",
       " 'Basic Assginment_16.ipynb',\n",
       " 'Basic Assginment_17.ipynb',\n",
       " 'Basic Assginment_18.ipynb',\n",
       " 'Basic Assginment_19.ipynb',\n",
       " 'Basic Assginment_2.ipynb',\n",
       " 'Basic Assginment_20.ipynb',\n",
       " 'Basic Assginment_21.ipynb',\n",
       " 'Basic Assginment_3.ipynb',\n",
       " 'Basic Assginment_4.ipynb',\n",
       " 'Basic Assginment_5.ipynb',\n",
       " 'Basic Assginment_6.ipynb',\n",
       " 'Basic Assginment_7.ipynb',\n",
       " 'Basic Assginment_8.ipynb',\n",
       " 'Basic Assginment_9.ipynb',\n",
       " 'Basic Assignment_1.ipynb',\n",
       " 'blackImage.png',\n",
       " 'book.db',\n",
       " 'books.csv',\n",
       " 'books.db',\n",
       " 'cat.jpg',\n",
       " 'drawing.png',\n",
       " 'example.pdf',\n",
       " 'image.jpg',\n",
       " 'img.jpg',\n",
       " 'purpleImage.png',\n",
       " 'redis-2.4.5-win32-win64',\n",
       " 'test.txt',\n",
       " 'today.txt',\n",
       " 'zoo.py',\n",
       " '__pycache__']"
      ]
     },
     "execution_count": 35,
     "metadata": {},
     "output_type": "execute_result"
    }
   ],
   "source": [
    "import os\n",
    "os.listdir()"
   ]
  },
  {
   "cell_type": "markdown",
   "metadata": {},
   "source": [
    "### 5. Create a list of all of the files in your parent directory (minimum five files should be available)."
   ]
  },
  {
   "cell_type": "code",
   "execution_count": 37,
   "metadata": {},
   "outputs": [
    {
     "name": "stdout",
     "output_type": "stream",
     "text": [
      "['.ipynb_checkpoints', 'Assignments', 'Deep Learning', 'Feature enginerring', 'IP project', 'Models', 'Practice', 'Project', 'Untitled Folder', 'untitled.txt', 'Week 10', 'Week 12', 'Week 13', 'Week 15', 'Week 2', 'Week 3', 'Week 4', 'Week 5', 'Week 6', 'Week 6- 3 and 4 April', 'Week 7 - 10 and 11 April', 'Week 8', 'Week 9']\n"
     ]
    }
   ],
   "source": [
    "arr = os.listdir('C:/Users/VJ/Get JOB')\n",
    "print(arr)"
   ]
  },
  {
   "cell_type": "markdown",
   "metadata": {},
   "source": [
    "### 6. Use multiprocessing to create three separate processes. Make each one wait a random number of seconds between one and five, print the current time, and then exit."
   ]
  },
  {
   "cell_type": "code",
   "execution_count": 76,
   "metadata": {},
   "outputs": [
    {
     "name": "stdout",
     "output_type": "stream",
     "text": [
      "First process waited for 2 seconds\n",
      "Second process waited for 4 seconds\n",
      "Third process waited for 5 seconds\n",
      "Current time =  21:29:54\n",
      "Exit\n"
     ]
    }
   ],
   "source": [
    "import multiprocessing\n",
    "from time import sleep\n",
    "from datetime import datetime\n",
    "\n",
    "def first_process():\n",
    "    sleep(2)\n",
    "    print(\"First process waited for 2 seconds\")\n",
    "first_process()    \n",
    "def second_process():\n",
    "    sleep(4)\n",
    "    print(\"Second process waited for 4 seconds\")\n",
    "second_process()  \n",
    "def third_process():\n",
    "    sleep(5)\n",
    "    print(\"Third process waited for 5 seconds\")\n",
    "third_process()\n",
    "if __name__ == \"__main__\":\n",
    "    p1 = multiprocessing.Process(target=first_process)\n",
    "    p2 = multiprocessing.Process(target=second_process)\n",
    "    p3 = multiprocessing.Process(target=third_process)\n",
    "    \n",
    "    p1.start()\n",
    "    p2.start()\n",
    "    p3.start()\n",
    "    \n",
    "    p1.join()\n",
    "    p2.join()\n",
    "    p3.join()\n",
    "\n",
    "    current_time = datetime.now().strftime(\"%H:%M:%S\")\n",
    "    print('Current time = ',current_time)\n",
    "    print(\"Exit\")"
   ]
  },
  {
   "cell_type": "markdown",
   "metadata": {},
   "source": [
    "### 7. Create a date object of your day of birth."
   ]
  },
  {
   "cell_type": "code",
   "execution_count": 79,
   "metadata": {},
   "outputs": [
    {
     "name": "stdout",
     "output_type": "stream",
     "text": [
      "Enter the date (for example:02 07 1995)02 07 1995\n"
     ]
    }
   ],
   "source": [
    "import datetime\n",
    "date = str(input('Enter the date (for example:02 07 1995)'))\n",
    "day_name = ['Monday','Tuesday','Wednesday','Thursday','Friday','Saturday','Sunday']\n",
    "day = datetime.datetime.strptime(date, '%d %m %Y').weekday()"
   ]
  },
  {
   "cell_type": "markdown",
   "metadata": {},
   "source": [
    "### 8. What day of the week was your day of birth?"
   ]
  },
  {
   "cell_type": "code",
   "execution_count": 80,
   "metadata": {},
   "outputs": [
    {
     "name": "stdout",
     "output_type": "stream",
     "text": [
      "Sunday\n"
     ]
    }
   ],
   "source": [
    "print(day_name[day])"
   ]
  },
  {
   "cell_type": "markdown",
   "metadata": {},
   "source": [
    "### 9. When will you be (or when were you) 10,000 days old?"
   ]
  },
  {
   "cell_type": "code",
   "execution_count": 89,
   "metadata": {},
   "outputs": [
    {
     "name": "stdout",
     "output_type": "stream",
     "text": [
      "I will be on 17.11.2022 : 10000 days old\n"
     ]
    }
   ],
   "source": [
    "from datetime import date\n",
    "f_date = date(1995, 7, 2)\n",
    "l_date = date(2022, 11, 17)\n",
    "delta = l_date - f_date\n",
    "print(\"I will be on 17.11.2022 : {}\".format(delta.days),\"days old\")"
   ]
  },
  {
   "cell_type": "code",
   "execution_count": null,
   "metadata": {},
   "outputs": [],
   "source": []
  },
  {
   "cell_type": "code",
   "execution_count": null,
   "metadata": {},
   "outputs": [],
   "source": []
  }
 ],
 "metadata": {
  "kernelspec": {
   "display_name": "Python 3",
   "language": "python",
   "name": "python3"
  },
  "language_info": {
   "codemirror_mode": {
    "name": "ipython",
    "version": 3
   },
   "file_extension": ".py",
   "mimetype": "text/x-python",
   "name": "python",
   "nbconvert_exporter": "python",
   "pygments_lexer": "ipython3",
   "version": "3.8.3"
  }
 },
 "nbformat": 4,
 "nbformat_minor": 4
}
