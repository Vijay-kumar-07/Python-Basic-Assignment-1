{
 "cells": [
  {
   "cell_type": "markdown",
   "id": "145ed43e",
   "metadata": {},
   "source": [
    "## 1. What is the concept of an abstract superclass?"
   ]
  },
  {
   "cell_type": "markdown",
   "id": "f008b620",
   "metadata": {},
   "source": [
    "- A common superclass for several subclasses.\n",
    "- Factor up common behavior.\n",
    "- Define the methods they all respond to.\n",
    "- Methods that subclasses should implement are declared abstract.\n",
    "- Instances of the subclasses are created, but no instances of the superclass."
   ]
  },
  {
   "cell_type": "markdown",
   "id": "88dac768",
   "metadata": {},
   "source": [
    "## 2. What happens when a class statement's top level contains a basic assignment statement?"
   ]
  },
  {
   "cell_type": "markdown",
   "id": "fa738ac7",
   "metadata": {},
   "source": [
    "It will be the Class varible. Class variables are useful because they allow you to declare a variable when a class has been built, which can then be used later in your class. Like regular variables, class variables can store data of any type. So, we could store a Python dictionary, a Python tuple, or a Python list in a class variable."
   ]
  },
  {
   "cell_type": "markdown",
   "id": "8ce793ac",
   "metadata": {},
   "source": [
    "## 3. Why does a class need to manually call a superclass's __init__ method?"
   ]
  },
  {
   "cell_type": "markdown",
   "id": "f72d15ec",
   "metadata": {},
   "source": [
    "It's because one needs to define something that is NOT done in the base-class' __init__ , and the only possibility to obtain that is to put its execution in a derived-class' __init__ function."
   ]
  },
  {
   "cell_type": "markdown",
   "id": "f03f628c",
   "metadata": {},
   "source": [
    "## 4. How can you augment, instead of completely replacing, an inherited method?"
   ]
  },
  {
   "cell_type": "markdown",
   "id": "6427fa3f",
   "metadata": {},
   "source": [
    "We can use Method Overriding.\n",
    "\n",
    "It is an ability of any object-oriented programming language that allows a subclass or child class to provide a specific implementation of a method that is already provided by one of its super-classes or parent classes. When a method in a subclass has the same name, same parameters or signature and same return type(or sub-type) as a method in its super-class, then the method in the subclass is said to override the method in the super-class."
   ]
  },
  {
   "cell_type": "markdown",
   "id": "37da62db",
   "metadata": {},
   "source": [
    "## 5. How is the local scope of a class different from that of a function?"
   ]
  },
  {
   "cell_type": "markdown",
   "id": "4f0855f0",
   "metadata": {},
   "source": [
    "Local Scope occurs when you create a variable inside a function. By doing that, the visibility and accessibility of the variable is only allowed within that function but the class scope can be used on whole class."
   ]
  },
  {
   "cell_type": "code",
   "execution_count": null,
   "id": "ca21cfe9",
   "metadata": {},
   "outputs": [],
   "source": []
  }
 ],
 "metadata": {
  "kernelspec": {
   "display_name": "Python 3",
   "language": "python",
   "name": "python3"
  },
  "language_info": {
   "codemirror_mode": {
    "name": "ipython",
    "version": 3
   },
   "file_extension": ".py",
   "mimetype": "text/x-python",
   "name": "python",
   "nbconvert_exporter": "python",
   "pygments_lexer": "ipython3",
   "version": "3.8.8"
  }
 },
 "nbformat": 4,
 "nbformat_minor": 5
}
