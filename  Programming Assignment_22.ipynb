{
 "cells": [
  {
   "cell_type": "markdown",
   "metadata": {},
   "source": [
    "# Question1\n",
    "## Create a function that takes three parameters where:\n",
    "\n",
    "### •\tx is the start of the range (inclusive).\n",
    "### •\ty is the end of the range (inclusive).\n",
    "### •\tn is the divisor to be checked against.\n",
    "\n",
    "## Return an ordered list with numbers in the range that are divisible by the third parameter n. Return an empty list if there are no numbers that are divisible by n.\n"
   ]
  },
  {
   "cell_type": "code",
   "execution_count": 4,
   "metadata": {},
   "outputs": [
    {
     "name": "stdout",
     "output_type": "stream",
     "text": [
      "[3, 6, 9]\n",
      "[8]\n",
      "[]\n"
     ]
    }
   ],
   "source": [
    "def list_operation(x,y,n):\n",
    "    l = []\n",
    "    for i in range(x,y):\n",
    "        if i % n==0:\n",
    "            l.append(i)\n",
    "    return l        \n",
    "    \n",
    "print(list_operation(1,10,3))\n",
    "print(list_operation(7,9,2))\n",
    "print(list_operation(15,20,7))"
   ]
  },
  {
   "cell_type": "markdown",
   "metadata": {},
   "source": [
    "# Question2\n",
    "## Create a function that takes in two lists and returns True if the second list follows the first list by one element, and False otherwise. In other words, determine if the second list is the first list shifted to the right by 1.\n"
   ]
  },
  {
   "cell_type": "code",
   "execution_count": 9,
   "metadata": {},
   "outputs": [
    {
     "name": "stdout",
     "output_type": "stream",
     "text": [
      "True\n",
      "False\n",
      "True\n",
      "False\n"
     ]
    }
   ],
   "source": [
    "def simon_says(lst1,lst2):\n",
    "    if lst1[0] == lst2[1]:\n",
    "        return True\n",
    "    else:\n",
    "        return False\n",
    "    \n",
    "print(simon_says([1,2],[5,1])) \n",
    "print(simon_says([1,2],[5,5]))\n",
    "print(simon_says([1,2,3,4,5],[0,1,2,3,4]))\n",
    "print(simon_says([1,2,3,4,5],[5,5,1,2,3]))"
   ]
  },
  {
   "cell_type": "markdown",
   "metadata": {},
   "source": [
    "# Question3\n",
    "## A group of friends have decided to start a secret society. The name will be the first letter of each of their names, sorted in alphabetical order.\n",
    "## Create a function that takes in a list of names and returns the name of the secret society.\n",
    "\n"
   ]
  },
  {
   "cell_type": "code",
   "execution_count": 99,
   "metadata": {},
   "outputs": [
    {
     "name": "stdout",
     "output_type": "stream",
     "text": [
      "\"AMS\"\n",
      "\"CHLN\"\n",
      "\"CJMPRR\"\n"
     ]
    }
   ],
   "source": [
    "def society_name(names):\n",
    "    order = ''\n",
    "    for i in range(len(names)):\n",
    "        first_letters = names[i][0]\n",
    "        order += first_letters\n",
    "    l = sorted(order)\n",
    "    order = \"\".join(l)\n",
    "    return order\n",
    "    \n",
    "    \n",
    "print('\"{}\"'.format(society_name([\"Adam\",\"Sarah\",\"Malcolm\"])))  \n",
    "print('\"{}\"'.format(society_name([\"Harry\",\"Newt\",\"Luna\",\"Cho\"])))\n",
    "print('\"{}\"'.format(society_name([\"Phoebe\",\"Chandler\",\"Rachel\",\"Ross\",\"Monica\",\"Joey\"])))\n",
    "    "
   ]
  },
  {
   "cell_type": "markdown",
   "metadata": {},
   "source": [
    "# Question4\n",
    "## An isogram is a word that has no duplicate letters. Create a function that takes a string and returns either True or False depending on whether or not it's an \"isogram\".\n"
   ]
  },
  {
   "cell_type": "code",
   "execution_count": 123,
   "metadata": {},
   "outputs": [
    {
     "name": "stdout",
     "output_type": "stream",
     "text": [
      "True\n",
      "False\n",
      "False\n"
     ]
    }
   ],
   "source": [
    "def is_isogram(string):\n",
    "    word = string.lower()\n",
    "    l = []\n",
    "    for i in word:\n",
    "        if i.isalpha():\n",
    "            if i in l:\n",
    "                return False\n",
    "            l.append(i)\n",
    "    return True       \n",
    "     \n",
    "    \n",
    "print(is_isogram(\"Algorism\"))\n",
    "print(is_isogram(\"PasSword\"))\n",
    "print(is_isogram(\"Consecutive\"))"
   ]
  },
  {
   "cell_type": "markdown",
   "metadata": {},
   "source": [
    "# Question5\n",
    "## Create a function that takes a string and returns True or False, depending on whether the characters are in order or not.\n"
   ]
  },
  {
   "cell_type": "code",
   "execution_count": 132,
   "metadata": {},
   "outputs": [
    {
     "name": "stdout",
     "output_type": "stream",
     "text": [
      "True\n",
      "False\n",
      "True\n",
      "True\n"
     ]
    }
   ],
   "source": [
    "def is_in_order(characters):\n",
    "    c = [characters[i] for i in range(len(characters))]\n",
    "    c.sort()\n",
    "    for j in range(len(characters)):\n",
    "        if c[j] != characters[j]:\n",
    "            return False\n",
    "    return True\n",
    "    \n",
    "print(is_in_order(\"abc\"))\n",
    "print(is_in_order(\"edabit\"))\n",
    "print(is_in_order(\"123\"))\n",
    "print(is_in_order(\"xyzz\"))\n",
    "        "
   ]
  },
  {
   "cell_type": "code",
   "execution_count": null,
   "metadata": {},
   "outputs": [],
   "source": []
  }
 ],
 "metadata": {
  "kernelspec": {
   "display_name": "Python 3",
   "language": "python",
   "name": "python3"
  },
  "language_info": {
   "codemirror_mode": {
    "name": "ipython",
    "version": 3
   },
   "file_extension": ".py",
   "mimetype": "text/x-python",
   "name": "python",
   "nbconvert_exporter": "python",
   "pygments_lexer": "ipython3",
   "version": "3.8.3"
  }
 },
 "nbformat": 4,
 "nbformat_minor": 4
}
