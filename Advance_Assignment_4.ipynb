{
 "cells": [
  {
   "cell_type": "markdown",
   "id": "c061380b",
   "metadata": {},
   "source": [
    "## Q1. Which two operator overloading methods can you use in your classes to support iteration?"
   ]
  },
  {
   "cell_type": "raw",
   "id": "c797bb1e",
   "metadata": {},
   "source": [
    "Classes can support iteration by defining (or inheriting) __getitem__ or __iter__. In all iteration contexts, Python tries to use __iter__ first, which returns an object that supports the iteration protocol with a __next__ method: if no __iter__ is found by inheritance search, Python falls back on the __getitem__ indexing method, which is called repeatedly, with successively higher indexes. If used, the yield statement can create __next__ method automatically."
   ]
  },
  {
   "cell_type": "markdown",
   "id": "83f83eab",
   "metadata": {},
   "source": [
    "## Q2. In what contexts do the two operator overloading methods manage printing?"
   ]
  },
  {
   "cell_type": "raw",
   "id": "1eb22177",
   "metadata": {},
   "source": [
    "The __str__ and __repr__ methods implement object print displays. The former is called by the print and str built-in functions; the latter is called by print and str if there is no __str__, and always by the repr built-in, interactive echoes, and nested appearances. That is,__repr__ is used everywhere, except by print and str when a __str__ is defined. A __str__ is usually used for user-friendly displays; __repr__ gives extra details or the object's as-code form."
   ]
  },
  {
   "cell_type": "markdown",
   "id": "c634cc96",
   "metadata": {},
   "source": [
    "## Q3. In a class, how do you intercept slice operations?"
   ]
  },
  {
   "cell_type": "raw",
   "id": "38facb57",
   "metadata": {},
   "source": [
    "Slicing is caught by the __getitem__ indexing method: it is called with a slice object, instead of a simple integer index, and\n",
    "slice objects may be passed on or inspected as needed. "
   ]
  },
  {
   "cell_type": "markdown",
   "id": "fffb4763",
   "metadata": {},
   "source": [
    "## Q4. In a class, how do you capture in-place addition?"
   ]
  },
  {
   "cell_type": "raw",
   "id": "c80d6240",
   "metadata": {},
   "source": [
    "In-place addition tries __iadd__ first, and __add__ with an assignment second. The same pattern holds true for all binary\n",
    "operators. The __radd__ method is also available for right-side addition."
   ]
  },
  {
   "cell_type": "markdown",
   "id": "354cd1f3",
   "metadata": {},
   "source": [
    "## Q5. When is it appropriate to use operator overloading?\n"
   ]
  },
  {
   "cell_type": "raw",
   "id": "02ab44d7",
   "metadata": {},
   "source": [
    "When a class naturally matches, or needs to emulate, a built-in type's interfaces. For example, collections might imitate\n",
    "sequence or mapping interfaces, and callables might be coded for use with an API that expects a function. You generally shouldn't implement expression operators if they don't naturally map to your objects naturally and logically, though-use normally named methods instead."
   ]
  },
  {
   "cell_type": "code",
   "execution_count": null,
   "id": "5505b0c0",
   "metadata": {},
   "outputs": [],
   "source": []
  }
 ],
 "metadata": {
  "kernelspec": {
   "display_name": "Python 3",
   "language": "python",
   "name": "python3"
  },
  "language_info": {
   "codemirror_mode": {
    "name": "ipython",
    "version": 3
   },
   "file_extension": ".py",
   "mimetype": "text/x-python",
   "name": "python",
   "nbconvert_exporter": "python",
   "pygments_lexer": "ipython3",
   "version": "3.8.8"
  }
 },
 "nbformat": 4,
 "nbformat_minor": 5
}
