{
 "cells": [
  {
   "cell_type": "markdown",
   "metadata": {},
   "source": [
    "# 1.\tWrite a Python Program to Add Two Matrices?"
   ]
  },
  {
   "cell_type": "code",
   "execution_count": 41,
   "metadata": {},
   "outputs": [
    {
     "name": "stdout",
     "output_type": "stream",
     "text": [
      "[10, 10, 10]\n",
      "[10, 10, 10]\n",
      "[10, 10, 10]\n"
     ]
    }
   ],
   "source": [
    "X =[[1,2,3],\n",
    "    [4,5,6], \n",
    "    [7,8,9]]\n",
    "Y =[[9,8,7], \n",
    "    [6,5,4], \n",
    "    [3,2,1]]\n",
    "result = [[0,0,0,],\n",
    "          [0,0,0],\n",
    "          [0,0,0]]\n",
    "#iterate through rows of X\n",
    "for i in range(len(X)):\n",
    "    #iterate through columns of Y\n",
    "    for j in range(len(X[0])):\n",
    "        result[i][j] = X[i][j] + Y[i][j]\n",
    "        \n",
    "for r in result:\n",
    "    print(r)\n",
    "    \n",
    "    "
   ]
  },
  {
   "cell_type": "markdown",
   "metadata": {},
   "source": [
    "# 2.\tWrite a Python Program to Multiply Two Matrices?"
   ]
  },
  {
   "cell_type": "code",
   "execution_count": 44,
   "metadata": {},
   "outputs": [
    {
     "name": "stdout",
     "output_type": "stream",
     "text": [
      "[30, 24, 18]\n",
      "[84, 69, 54]\n",
      "[138, 114, 90]\n"
     ]
    }
   ],
   "source": [
    "X = [[1,2,3],\n",
    "     [4,5,6],\n",
    "     [7,8,9]]\n",
    "Y = [[9,8,7],\n",
    "     [6,5,4],\n",
    "     [3,2,1]]\n",
    "result =[[0,0,0],\n",
    "         [0,0,0],\n",
    "         [0,0,0]]\n",
    "# iterate through rows of X\n",
    "for i in range(len(X)):\n",
    "    #iterate through colums of Y\n",
    "    for j in range(len(Y[0])):\n",
    "        #iterate through rows of Y\n",
    "        for k in range(len(Y)):\n",
    "            result[i][j] += X[i][k]*Y[k][j]\n",
    "for r in result:\n",
    "    print(r)"
   ]
  },
  {
   "cell_type": "markdown",
   "metadata": {},
   "source": [
    "# 3.\tWrite a Python Program to Transpose a Matrix?"
   ]
  },
  {
   "cell_type": "code",
   "execution_count": 52,
   "metadata": {},
   "outputs": [
    {
     "name": "stdout",
     "output_type": "stream",
     "text": [
      "[1, 4, 7]\n",
      "[2, 5, 8]\n",
      "[3, 6, 9]\n"
     ]
    }
   ],
   "source": [
    "X = [[1,2,3],\n",
    "    [4,5,6],\n",
    "    [7,8,9]]\n",
    "result = [[0,0,0],\n",
    "         [0,0,0],\n",
    "         [0,0,0]]\n",
    "for i in range(len(X)):\n",
    "    for j in range(len(X[0])):\n",
    "        result[j][i] = X[i][j]\n",
    "for r in result:\n",
    "    print(r)"
   ]
  },
  {
   "cell_type": "markdown",
   "metadata": {},
   "source": [
    "# 4.\tWrite a Python Program to Sort Words in Alphabetic Order?"
   ]
  },
  {
   "cell_type": "code",
   "execution_count": 54,
   "metadata": {},
   "outputs": [
    {
     "name": "stdout",
     "output_type": "stream",
     "text": [
      "Enter a string :Hello this is Vijay and I have taken Full stack DS course\n",
      "The sorted words are :\n",
      "and\n",
      "course\n",
      "ds\n",
      "full\n",
      "have\n",
      "hello\n",
      "i\n",
      "is\n",
      "stack\n",
      "taken\n",
      "this\n",
      "vijay\n"
     ]
    }
   ],
   "source": [
    "my_str = input(\"Enter a string :\")\n",
    "#breakdown the string into list of words\n",
    "words = [word.lower() for word in my_str.split()]\n",
    "#sort the list\n",
    "words.sort()\n",
    "#display the sorted words\n",
    "print(\"The sorted words are :\")\n",
    "for word in words:\n",
    "    print(word)"
   ]
  },
  {
   "cell_type": "markdown",
   "metadata": {},
   "source": [
    "# 5.\tWrite a Python Program to Remove Punctuation From a String?"
   ]
  },
  {
   "cell_type": "code",
   "execution_count": 55,
   "metadata": {},
   "outputs": [
    {
     "name": "stdout",
     "output_type": "stream",
     "text": [
      "Enter a string :Hello! This is Vijay!!!\n",
      "Hello This is Vijay\n"
     ]
    }
   ],
   "source": [
    "# define punctuation\n",
    "punctuations = '''!()-[]{};:'\"\\,<>./?@#$%^&*_~'''\n",
    "my_str = input(\"Enter a string :\")\n",
    "no_punct = \"\"\n",
    "for punct in my_str:\n",
    "    if punct not in punctuations:\n",
    "        no_punct += punct\n",
    "print(no_punct)"
   ]
  },
  {
   "cell_type": "code",
   "execution_count": null,
   "metadata": {},
   "outputs": [],
   "source": []
  }
 ],
 "metadata": {
  "kernelspec": {
   "display_name": "Python 3",
   "language": "python",
   "name": "python3"
  },
  "language_info": {
   "codemirror_mode": {
    "name": "ipython",
    "version": 3
   },
   "file_extension": ".py",
   "mimetype": "text/x-python",
   "name": "python",
   "nbconvert_exporter": "python",
   "pygments_lexer": "ipython3",
   "version": "3.8.3"
  }
 },
 "nbformat": 4,
 "nbformat_minor": 4
}
