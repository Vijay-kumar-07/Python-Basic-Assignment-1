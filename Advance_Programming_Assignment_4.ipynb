{
 "cells": [
  {
   "cell_type": "markdown",
   "id": "8b710ff6",
   "metadata": {},
   "source": [
    "## 1. In mathematics, the Fibonacci numbers, commonly denoted Fn, form a sequence, called the Fibonacci sequence, such that each number is the sum of the two preceding ones, starting from 0 and 1:\n",
    "\n",
    "\n",
    "### The beginning of the sequence is this:\n",
    "\n",
    "0, 1, 1, 2, 3, 5, 8, 13, 21, 34, 55, 89, 144, ...\n",
    "\n",
    "### The function fastFib(num) returns the fibonacci number Fn, of the given num as an argument.\n"
   ]
  },
  {
   "cell_type": "code",
   "execution_count": 8,
   "id": "ef622dab",
   "metadata": {},
   "outputs": [
    {
     "name": "stdout",
     "output_type": "stream",
     "text": [
      "5\n",
      "55\n",
      "6765\n"
     ]
    }
   ],
   "source": [
    "def fib_fast(n):\n",
    "    if n==0:\n",
    "        return 0\n",
    "    elif  n == 1:\n",
    "        return 1\n",
    "    else:\n",
    "        fn = fib_fast(n-1)+fib_fast(n-2)\n",
    "    return fn\n",
    "\n",
    "print(fib_fast(5))\n",
    "print(fib_fast(10))\n",
    "print(fib_fast(20))"
   ]
  },
  {
   "cell_type": "markdown",
   "id": "56418979",
   "metadata": {},
   "source": [
    "## 2. Create a function that takes a strings characters as ASCII and returns each characters hexadecimal value as a string."
   ]
  },
  {
   "cell_type": "code",
   "execution_count": 26,
   "id": "d1757071",
   "metadata": {},
   "outputs": [
    {
     "name": "stdout",
     "output_type": "stream",
     "text": [
      "hello world : 68656c6c6f20776f726c64\n",
      "Big Boi : 42696720426f69\n",
      "Marty Poppinson : 4d6172747920506f7070696e736f6e\n"
     ]
    }
   ],
   "source": [
    "import codecs\n",
    "def convert_to_hex(string):\n",
    "    hexa = \"\"\n",
    "    for i in range(len(string)):\n",
    "        char = string[i]\n",
    "        integer = ord(char)\n",
    "        hex_value = hex(integer).lstrip(\"0x\").rstrip(\"L\")\n",
    "        hexa += hex_value\n",
    "    return \"{} : {}\".format(string,hexa)\n",
    "        \n",
    "\n",
    "print(convert_to_hex(\"hello world\"))\n",
    "print(convert_to_hex(\"Big Boi\"))\n",
    "print(convert_to_hex(\"Marty Poppinson\"))"
   ]
  },
  {
   "cell_type": "markdown",
   "id": "468ef2ec",
   "metadata": {},
   "source": [
    "## 3. Someone has attempted to censor my strings by replacing every vowel with a *, l*k* th*s. Luckily, I've been able to find the vowels that were removed.\n",
    "\n",
    "## Given a censored string and a string of the censored vowels, return the original uncensored string.\n"
   ]
  },
  {
   "cell_type": "code",
   "execution_count": 88,
   "id": "75c1d0a9",
   "metadata": {},
   "outputs": [
    {
     "name": "stdout",
     "output_type": "stream",
     "text": [
      "Where did my vowels go?\n",
      "abcd\n",
      "UPPERCASE\n"
     ]
    }
   ],
   "source": [
    "def uncensor(sent, vowels):\n",
    "    c = 0\n",
    "    for i in sent:\n",
    "        if i == \"*\":\n",
    "            sent = sent.replace(i, vowels[c],1)\n",
    "            c +=1\n",
    "    return sent\n",
    "            \n",
    "\n",
    "print(uncensor(\"Wh*r* d*d my v*w*ls g*?\", \"eeioeo\"))\n",
    "print(uncensor(\"abcd\", \"\"))\n",
    "print(uncensor(\"*PP*RC*S*\", \"UEAE\"))"
   ]
  },
  {
   "cell_type": "markdown",
   "id": "1b8f4550",
   "metadata": {},
   "source": [
    "## 4. Write a function that takes an IP address and returns the domain name using PTR DNS records."
   ]
  },
  {
   "cell_type": "code",
   "execution_count": 113,
   "id": "0a942db4",
   "metadata": {},
   "outputs": [
    {
     "name": "stdout",
     "output_type": "stream",
     "text": [
      "dns.google\n",
      "dns.google\n"
     ]
    }
   ],
   "source": [
    "import socket\n",
    "def get_domain(IP_adr):\n",
    "    result = socket.gethostbyaddr(IP_adr)\n",
    "    return result[0]\n",
    "    \n",
    "    \n",
    "print(get_domain(\"8.8.8.8\"))\n",
    "print(get_domain(\"8.8.4.4\"))"
   ]
  },
  {
   "cell_type": "markdown",
   "id": "8c303876",
   "metadata": {},
   "source": [
    "## 5. Create a function that takes an integer n and returns the factorial of factorials. "
   ]
  },
  {
   "cell_type": "code",
   "execution_count": 144,
   "id": "83dbf987",
   "metadata": {},
   "outputs": [
    {
     "name": "stdout",
     "output_type": "stream",
     "text": [
      "288\n",
      "34560\n",
      "24883200\n"
     ]
    }
   ],
   "source": [
    "import math\n",
    "def fact_of_fact(n):\n",
    "    fact =1\n",
    "    for i in range(n,0,-1):\n",
    "        fact = fact * math.factorial(i)\n",
    "    return fact\n",
    "        \n",
    "    \n",
    "print(fact_of_fact(4))\n",
    "print(fact_of_fact(5))\n",
    "print(fact_of_fact(6))"
   ]
  },
  {
   "cell_type": "code",
   "execution_count": null,
   "id": "06d52f2a",
   "metadata": {},
   "outputs": [],
   "source": []
  },
  {
   "cell_type": "code",
   "execution_count": null,
   "id": "838aff50",
   "metadata": {},
   "outputs": [],
   "source": []
  },
  {
   "cell_type": "code",
   "execution_count": null,
   "id": "d0bc8f33",
   "metadata": {},
   "outputs": [],
   "source": []
  }
 ],
 "metadata": {
  "kernelspec": {
   "display_name": "Python 3",
   "language": "python",
   "name": "python3"
  },
  "language_info": {
   "codemirror_mode": {
    "name": "ipython",
    "version": 3
   },
   "file_extension": ".py",
   "mimetype": "text/x-python",
   "name": "python",
   "nbconvert_exporter": "python",
   "pygments_lexer": "ipython3",
   "version": "3.8.8"
  }
 },
 "nbformat": 4,
 "nbformat_minor": 5
}
