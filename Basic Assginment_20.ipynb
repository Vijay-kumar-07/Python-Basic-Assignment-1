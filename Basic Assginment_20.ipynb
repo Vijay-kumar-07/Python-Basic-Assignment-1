{
 "cells": [
  {
   "cell_type": "markdown",
   "metadata": {},
   "source": [
    "### 1. Set the variable test1 to the string 'This is a test of the emergency text system,' and save test1 to a file named test.txt."
   ]
  },
  {
   "cell_type": "code",
   "execution_count": 1,
   "metadata": {},
   "outputs": [],
   "source": [
    "test1 = \"This is a test of the emergency text system\"\n",
    "file = open('test.txt','w')\n",
    "file.write(test1)\n",
    "file.close()"
   ]
  },
  {
   "cell_type": "markdown",
   "metadata": {},
   "source": [
    "### 2. Read the contents of the file test.txt into the variable test2. Is there a difference between test 1 and test 2?"
   ]
  },
  {
   "cell_type": "code",
   "execution_count": 2,
   "metadata": {},
   "outputs": [
    {
     "data": {
      "text/plain": [
       "'This is a test of the emergency text system'"
      ]
     },
     "execution_count": 2,
     "metadata": {},
     "output_type": "execute_result"
    }
   ],
   "source": [
    "test2 = open('test.txt','r')\n",
    "test2.read()\n",
    "## There is no difference between test 1 and test2"
   ]
  },
  {
   "cell_type": "markdown",
   "metadata": {},
   "source": [
    "### 3. Create a CSV file called books.csv "
   ]
  },
  {
   "cell_type": "code",
   "execution_count": 3,
   "metadata": {},
   "outputs": [],
   "source": [
    "import csv\n",
    "\n",
    "fields = ['title','author','year']\n",
    "\n",
    "rows = [['The Weirdstone of Brisingamen','Alan Garner',1960],\n",
    "       ['Perdido Street Station','China Miéville',2000],\n",
    "       ['Thud!','Terry Pratchett',2005],\n",
    "       ['The Spellman Files','Lisa Lutz',2007],\n",
    "       ['Small Gods','Terry Pratchett',1992]]\n",
    "\n",
    "\n",
    "filename = 'books.csv'\n",
    "with open(filename,'w') as csvfile:\n",
    "    csvwriter = csv.writer(csvfile)\n",
    "    \n",
    "    csvwriter.writerow(fields)\n",
    "    csvwriter.writerows(rows)\n",
    "    "
   ]
  },
  {
   "cell_type": "markdown",
   "metadata": {},
   "source": [
    "### 4. Use the sqlite3 module to create a SQLite database called books.db, and a table called books with these fields: title (text), author (text), and year (integer)."
   ]
  },
  {
   "cell_type": "code",
   "execution_count": 4,
   "metadata": {},
   "outputs": [],
   "source": [
    "import sqlite3\n",
    "db = sqlite3.connect('books.db')\n",
    "\n",
    "cursor = db.cursor()\n",
    "cursor.execute('''CREATE TABLE books(title TEXT,author TEXT,year INTEGER);''')\n",
    "db.commit()\n",
    "db.close()"
   ]
  },
  {
   "cell_type": "markdown",
   "metadata": {},
   "source": [
    "### 5. Read books.csv and insert its data into the book table."
   ]
  },
  {
   "cell_type": "code",
   "execution_count": 5,
   "metadata": {},
   "outputs": [
    {
     "data": {
      "text/plain": [
       "[('The Weirdstone of Brisingamen', 'Alan Garner', 1960),\n",
       " ('Perdido Street Station', 'China Miéville', 2000),\n",
       " ('Thud!', 'Terry Pratchett', 2005),\n",
       " ('The Spellman Files', 'Lisa Lutz', 2007),\n",
       " ('Small Gods', 'Terry Pratchett', 1992)]"
      ]
     },
     "execution_count": 5,
     "metadata": {},
     "output_type": "execute_result"
    }
   ],
   "source": [
    "from pathlib import Path\n",
    "Path('book.db').touch()\n",
    "\n",
    "import sqlite3\n",
    "import pandas as pd\n",
    "db = sqlite3.connect('book.db')\n",
    "cursor = db.cursor()\n",
    "\n",
    "cursor.execute('''CREATE TABLE book(title text,author text,year int)''')\n",
    "\n",
    "books = pd.read_csv('books.csv',engine='python')\n",
    "books.to_sql('book',db,if_exists='append',index=False)\n",
    "\n",
    "cursor.execute('''SELECT * FROM book''').fetchall()"
   ]
  },
  {
   "cell_type": "markdown",
   "metadata": {},
   "source": [
    "### 6. Select and print the title column from the book table in alphabetical order."
   ]
  },
  {
   "cell_type": "code",
   "execution_count": 7,
   "metadata": {},
   "outputs": [
    {
     "data": {
      "text/plain": [
       "[('Perdido Street Station',),\n",
       " ('Small Gods',),\n",
       " ('The Spellman Files',),\n",
       " ('The Weirdstone of Brisingamen',),\n",
       " ('Thud!',)]"
      ]
     },
     "execution_count": 7,
     "metadata": {},
     "output_type": "execute_result"
    }
   ],
   "source": [
    "cursor.execute('''SELECT title FROM book ORDER BY title ASC''').fetchall()"
   ]
  },
  {
   "cell_type": "markdown",
   "metadata": {},
   "source": [
    "### 7. From the book table, select and print all columns in the order of publication."
   ]
  },
  {
   "cell_type": "code",
   "execution_count": 8,
   "metadata": {},
   "outputs": [
    {
     "data": {
      "text/plain": [
       "[('The Weirdstone of Brisingamen', 'Alan Garner', 1960),\n",
       " ('Perdido Street Station', 'China Miéville', 2000),\n",
       " ('Thud!', 'Terry Pratchett', 2005),\n",
       " ('The Spellman Files', 'Lisa Lutz', 2007),\n",
       " ('Small Gods', 'Terry Pratchett', 1992)]"
      ]
     },
     "execution_count": 8,
     "metadata": {},
     "output_type": "execute_result"
    }
   ],
   "source": [
    "cursor.execute('SELECT * FROM book').fetchall()"
   ]
  },
  {
   "cell_type": "markdown",
   "metadata": {},
   "source": [
    "### 8. Use the sqlalchemy module to connect to the sqlite3 database books.db."
   ]
  },
  {
   "cell_type": "code",
   "execution_count": 14,
   "metadata": {},
   "outputs": [
    {
     "name": "stdout",
     "output_type": "stream",
     "text": [
      "['books']\n"
     ]
    }
   ],
   "source": [
    "from sqlalchemy import create_engine\n",
    "engine = create_engine('sqlite:///books.db')\n",
    "db = engine.connect()\n",
    "print(engine.table_names())"
   ]
  },
  {
   "cell_type": "markdown",
   "metadata": {},
   "source": [
    "### 9. Install the Redis server and the Python redis library (pip install redis) on your computer. Create a Redis hash called test with the fields count (1) and name ('Fester Bestertester'). Print all the fields for test."
   ]
  },
  {
   "cell_type": "code",
   "execution_count": 13,
   "metadata": {},
   "outputs": [
    {
     "name": "stdout",
     "output_type": "stream",
     "text": [
      "Requirement already satisfied: redis in c:\\users\\vj\\anaconda3\\lib\\site-packages (3.5.3)\n"
     ]
    }
   ],
   "source": [
    "!pip install redis"
   ]
  },
  {
   "cell_type": "code",
   "execution_count": 35,
   "metadata": {},
   "outputs": [
    {
     "name": "stderr",
     "output_type": "stream",
     "text": [
      "<ipython-input-35-18b3f64294b5>:5: DeprecationWarning: Redis.hmset() is deprecated. Use Redis.hset() instead.\n",
      "  db.hmset('test',{'count':1,'name':'Fester Bestertester'})\n"
     ]
    },
    {
     "data": {
      "text/plain": [
       "{b'count': b'1', b'name': b'Fester Bestertester'}"
      ]
     },
     "execution_count": 35,
     "metadata": {},
     "output_type": "execute_result"
    }
   ],
   "source": [
    "import redis\n",
    "db = redis.Redis('localhost', 6379)\n",
    "db.keys('*')\n",
    "db.delete('test')\n",
    "db.hmset('test',{'count':1,'name':'Fester Bestertester'})\n",
    "db.hgetall('test')"
   ]
  },
  {
   "cell_type": "markdown",
   "metadata": {},
   "source": [
    "### 10. Increment the count field of test and print it."
   ]
  },
  {
   "cell_type": "code",
   "execution_count": 36,
   "metadata": {},
   "outputs": [
    {
     "data": {
      "text/plain": [
       "b'6'"
      ]
     },
     "execution_count": 36,
     "metadata": {},
     "output_type": "execute_result"
    }
   ],
   "source": [
    "db.hincrby('test','count',5)\n",
    "db.hget('test','count')"
   ]
  },
  {
   "cell_type": "code",
   "execution_count": null,
   "metadata": {},
   "outputs": [],
   "source": []
  }
 ],
 "metadata": {
  "kernelspec": {
   "display_name": "Python 3",
   "language": "python",
   "name": "python3"
  },
  "language_info": {
   "codemirror_mode": {
    "name": "ipython",
    "version": 3
   },
   "file_extension": ".py",
   "mimetype": "text/x-python",
   "name": "python",
   "nbconvert_exporter": "python",
   "pygments_lexer": "ipython3",
   "version": "3.8.3"
  }
 },
 "nbformat": 4,
 "nbformat_minor": 4
}
